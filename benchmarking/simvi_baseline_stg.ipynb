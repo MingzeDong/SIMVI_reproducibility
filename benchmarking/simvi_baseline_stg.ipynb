{
 "cells": [
  {
   "cell_type": "code",
   "execution_count": 2,
   "id": "f724a518",
   "metadata": {},
   "outputs": [],
   "source": [
    "import scanpy as sc\n",
    "import squidpy as sq\n",
    "\n",
    "import numpy as np\n",
    "import pandas as pd"
   ]
  },
  {
   "cell_type": "code",
   "execution_count": 2,
   "id": "6ba69794",
   "metadata": {},
   "outputs": [
    {
     "name": "stderr",
     "output_type": "stream",
     "text": [
      "/tmp/ipykernel_646484/481034249.py:4: SettingWithCopyWarning: \n",
      "A value is trying to be set on a copy of a slice from a DataFrame\n",
      "\n",
      "See the caveats in the documentation: https://pandas.pydata.org/pandas-docs/stable/user_guide/indexing.html#returning-a-view-versus-a-copy\n",
      "  adata4.obs['niche'][adata4.obs['coord']> 3500] = 'N5'\n",
      "/tmp/ipykernel_646484/481034249.py:5: SettingWithCopyWarning: \n",
      "A value is trying to be set on a copy of a slice from a DataFrame\n",
      "\n",
      "See the caveats in the documentation: https://pandas.pydata.org/pandas-docs/stable/user_guide/indexing.html#returning-a-view-versus-a-copy\n",
      "  adata4.obs['niche'][adata4.obs['coord']> 4700] = 'N4'\n",
      "/tmp/ipykernel_646484/481034249.py:6: SettingWithCopyWarning: \n",
      "A value is trying to be set on a copy of a slice from a DataFrame\n",
      "\n",
      "See the caveats in the documentation: https://pandas.pydata.org/pandas-docs/stable/user_guide/indexing.html#returning-a-view-versus-a-copy\n",
      "  adata4.obs['niche'][adata4.obs['coord']> 5600] = 'N3'\n",
      "/tmp/ipykernel_646484/481034249.py:7: SettingWithCopyWarning: \n",
      "A value is trying to be set on a copy of a slice from a DataFrame\n",
      "\n",
      "See the caveats in the documentation: https://pandas.pydata.org/pandas-docs/stable/user_guide/indexing.html#returning-a-view-versus-a-copy\n",
      "  adata4.obs['niche'][adata4.obs['coord']> 7000] = 'N2'\n",
      "/tmp/ipykernel_646484/481034249.py:8: SettingWithCopyWarning: \n",
      "A value is trying to be set on a copy of a slice from a DataFrame\n",
      "\n",
      "See the caveats in the documentation: https://pandas.pydata.org/pandas-docs/stable/user_guide/indexing.html#returning-a-view-versus-a-copy\n",
      "  adata4.obs['niche'][adata4.obs['coord']> 7900] = 'N1'\n",
      "/tmp/ipykernel_646484/481034249.py:14: SettingWithCopyWarning: \n",
      "A value is trying to be set on a copy of a slice from a DataFrame\n",
      "\n",
      "See the caveats in the documentation: https://pandas.pydata.org/pandas-docs/stable/user_guide/indexing.html#returning-a-view-versus-a-copy\n",
      "  adata5.obs['niche'][adata5.obs['coord']> 1800] = 'N5'\n",
      "/tmp/ipykernel_646484/481034249.py:15: SettingWithCopyWarning: \n",
      "A value is trying to be set on a copy of a slice from a DataFrame\n",
      "\n",
      "See the caveats in the documentation: https://pandas.pydata.org/pandas-docs/stable/user_guide/indexing.html#returning-a-view-versus-a-copy\n",
      "  adata5.obs['niche'][adata5.obs['coord2']> 3000] = 'N4'\n",
      "/tmp/ipykernel_646484/481034249.py:16: SettingWithCopyWarning: \n",
      "A value is trying to be set on a copy of a slice from a DataFrame\n",
      "\n",
      "See the caveats in the documentation: https://pandas.pydata.org/pandas-docs/stable/user_guide/indexing.html#returning-a-view-versus-a-copy\n",
      "  adata5.obs['niche'][adata5.obs['coord2']> 3400] = 'N3'\n",
      "/tmp/ipykernel_646484/481034249.py:17: SettingWithCopyWarning: \n",
      "A value is trying to be set on a copy of a slice from a DataFrame\n",
      "\n",
      "See the caveats in the documentation: https://pandas.pydata.org/pandas-docs/stable/user_guide/indexing.html#returning-a-view-versus-a-copy\n",
      "  adata5.obs['niche'][adata5.obs['coord']> 5200] = 'N2'\n",
      "/tmp/ipykernel_646484/481034249.py:18: SettingWithCopyWarning: \n",
      "A value is trying to be set on a copy of a slice from a DataFrame\n",
      "\n",
      "See the caveats in the documentation: https://pandas.pydata.org/pandas-docs/stable/user_guide/indexing.html#returning-a-view-versus-a-copy\n",
      "  adata5.obs['niche'][adata5.obs['coord']> 5600] = 'N1'\n",
      "/tmp/ipykernel_646484/481034249.py:23: SettingWithCopyWarning: \n",
      "A value is trying to be set on a copy of a slice from a DataFrame\n",
      "\n",
      "See the caveats in the documentation: https://pandas.pydata.org/pandas-docs/stable/user_guide/indexing.html#returning-a-view-versus-a-copy\n",
      "  adata6.obs['niche'][adata6.obs['coord']> 2500] = 'N5'\n",
      "/tmp/ipykernel_646484/481034249.py:24: SettingWithCopyWarning: \n",
      "A value is trying to be set on a copy of a slice from a DataFrame\n",
      "\n",
      "See the caveats in the documentation: https://pandas.pydata.org/pandas-docs/stable/user_guide/indexing.html#returning-a-view-versus-a-copy\n",
      "  adata6.obs['niche'][adata6.obs['coord']> 4000] = 'N4'\n",
      "/tmp/ipykernel_646484/481034249.py:25: SettingWithCopyWarning: \n",
      "A value is trying to be set on a copy of a slice from a DataFrame\n",
      "\n",
      "See the caveats in the documentation: https://pandas.pydata.org/pandas-docs/stable/user_guide/indexing.html#returning-a-view-versus-a-copy\n",
      "  adata6.obs['niche'][adata6.obs['coord']> 4400] = 'N3'\n"
     ]
    },
    {
     "data": {
      "text/plain": [
       "AnnData object with n_obs × n_vars = 14924 × 4000\n",
       "    obs: 'name', 'global.x', 'global.y', 'adjusted.x', 'adjusted.y', 'fov.x', 'fov.y', 'cluster_L1', 'cluster_L2', 'cluster_L3', 'coord', 'niche', 'batch'\n",
       "    obsm: 'spatial'"
      ]
     },
     "execution_count": 2,
     "metadata": {},
     "output_type": "execute_result"
    }
   ],
   "source": [
    "adata4 = sc.read_h5ad('datasets/merfish/H20.30.001.STG.4000.expand.rep1.h5ad')\n",
    "adata4.obs['coord'] = np.sqrt((adata4.obsm['spatial'][:,0]+3500) ** 2 + (adata4.obsm['spatial'][:,1]-2000) ** 2)\n",
    "adata4.obs['niche'] = 'N6'\n",
    "adata4.obs['niche'][adata4.obs['coord']> 3500] = 'N5'\n",
    "adata4.obs['niche'][adata4.obs['coord']> 4700] = 'N4'\n",
    "adata4.obs['niche'][adata4.obs['coord']> 5600] = 'N3'\n",
    "adata4.obs['niche'][adata4.obs['coord']> 7000] = 'N2'\n",
    "adata4.obs['niche'][adata4.obs['coord']> 7900] = 'N1'\n",
    "\n",
    "adata5 = sc.read_h5ad('datasets/merfish/H20.30.001.STG.4000.expand.rep2.h5ad')\n",
    "adata5.obs['coord'] = -((adata5.obsm['spatial'][:,0]+3500) + 0.4 * (adata5.obsm['spatial'][:,1]-2000)) +5000\n",
    "adata5.obs['coord2'] = -((adata5.obsm['spatial'][:,0]+3500) + 0.3 * (adata5.obsm['spatial'][:,1]-2000)) +5000\n",
    "adata5.obs['niche'] = 'N6'\n",
    "adata5.obs['niche'][adata5.obs['coord']> 1800] = 'N5'\n",
    "adata5.obs['niche'][adata5.obs['coord2']> 3000] = 'N4'\n",
    "adata5.obs['niche'][adata5.obs['coord2']> 3400] = 'N3'\n",
    "adata5.obs['niche'][adata5.obs['coord']> 5200] = 'N2'\n",
    "adata5.obs['niche'][adata5.obs['coord']> 5600] = 'N1'\n",
    "\n",
    "adata6 = sc.read_h5ad('datasets/merfish/H20.30.001.STG.4000.expand.rep3.h5ad')\n",
    "adata6.obs['coord'] = adata6.obsm['spatial'][:,1]\n",
    "adata6.obs['niche'] = 'N6'\n",
    "adata6.obs['niche'][adata6.obs['coord']> 2500] = 'N5'\n",
    "adata6.obs['niche'][adata6.obs['coord']> 4000] = 'N4'\n",
    "adata6.obs['niche'][adata6.obs['coord']> 4400] = 'N3'\n",
    "\n",
    "adata4.obs['batch'] = 'H20.30.001.STG.4000.rep1'\n",
    "adata5.obs['batch'] = 'H20.30.001.STG.4000.rep2'\n",
    "adata6.obs['batch'] = 'H20.30.001.STG.4000.rep3'\n",
    "\n",
    "adata_stg = sc.concat([adata4,adata5,adata6])\n",
    "adata_stg.obs_names_make_unique()\n",
    "adata_stg"
   ]
  },
  {
   "cell_type": "code",
   "execution_count": 3,
   "id": "e3f78482",
   "metadata": {},
   "outputs": [
    {
     "name": "stderr",
     "output_type": "stream",
     "text": [
      "Global seed set to 0\n"
     ]
    }
   ],
   "source": [
    "# graphonly models\n",
    "\n",
    "from simvi.model import SimVIGraphOnly"
   ]
  },
  {
   "cell_type": "code",
   "execution_count": 4,
   "id": "c3c8606f",
   "metadata": {},
   "outputs": [
    {
     "name": "stderr",
     "output_type": "stream",
     "text": [
      "No GPU/TPU found, falling back to CPU. (Set TF_CPP_MIN_LOG_LEVEL=0 and rerun for more info.)\n",
      "Global seed set to 0\n",
      "Epoch 100/100: 100%|████████████████████████████████████████████████████████████████████████████████████████████████████████████████████████████████████████████████████████████████████████████████████| 100/100 [00:45<00:00,  2.20it/s, train_loss=741, val_loss=783.71234]\n",
      "Global seed set to 1\n",
      "Epoch 100/100: 100%|████████████████████████████████████████████████████████████████████████████████████████████████████████████████████████████████████████████████████████████████████████████████████| 100/100 [00:47<00:00,  2.13it/s, train_loss=744, val_loss=786.52734]\n",
      "Global seed set to 2\n",
      "Epoch 100/100: 100%|████████████████████████████████████████████████████████████████████████████████████████████████████████████████████████████████████████████████████████████████████████████████████| 100/100 [00:45<00:00,  2.19it/s, train_loss=745, val_loss=784.38837]\n",
      "Global seed set to 3\n",
      "Epoch 100/100: 100%|████████████████████████████████████████████████████████████████████████████████████████████████████████████████████████████████████████████████████████████████████████████████████| 100/100 [00:45<00:00,  2.21it/s, train_loss=740, val_loss=785.22003]\n",
      "Global seed set to 4\n",
      "Epoch 100/100: 100%|████████████████████████████████████████████████████████████████████████████████████████████████████████████████████████████████████████████████████████████████████████████████████| 100/100 [00:46<00:00,  2.14it/s, train_loss=745, val_loss=784.40424]\n",
      "Global seed set to 5\n",
      "Epoch 100/100: 100%|█████████████████████████████████████████████████████████████████████████████████████████████████████████████████████████████████████████████████████████████████████████████████████| 100/100 [00:45<00:00,  2.17it/s, train_loss=743, val_loss=784.3536]\n",
      "Global seed set to 6\n",
      "Epoch 100/100: 100%|█████████████████████████████████████████████████████████████████████████████████████████████████████████████████████████████████████████████████████████████████████████████████████| 100/100 [00:45<00:00,  2.19it/s, train_loss=742, val_loss=785.1863]\n",
      "Global seed set to 7\n",
      "Epoch 100/100: 100%|█████████████████████████████████████████████████████████████████████████████████████████████████████████████████████████████████████████████████████████████████████████████████████| 100/100 [00:45<00:00,  2.18it/s, train_loss=740, val_loss=785.3045]\n",
      "Global seed set to 8\n",
      "Epoch 100/100: 100%|████████████████████████████████████████████████████████████████████████████████████████████████████████████████████████████████████████████████████████████████████████████████████| 100/100 [00:48<00:00,  2.06it/s, train_loss=741, val_loss=785.77234]\n",
      "Global seed set to 9\n",
      "Epoch 100/100: 100%|█████████████████████████████████████████████████████████████████████████████████████████████████████████████████████████████████████████████████████████████████████████████████████| 100/100 [00:48<00:00,  2.08it/s, train_loss=740, val_loss=788.6768]\n"
     ]
    }
   ],
   "source": [
    "SimVIGraphOnly.setup_anndata(adata_stg,batch_key='batch')\n",
    "edge_index = SimVIGraphOnly.extract_edge_index(adata_stg,n_neighbors=10,batch_key='batch')\n",
    "\n",
    "## likelihood\n",
    "\n",
    "from pytorch_lightning.utilities.seed import seed_everything\n",
    "for i in range(10):\n",
    "    seed_everything(i)\n",
    "    model = SimVIGraphOnly(adata_stg,kl_weight=1,kl_gatweight=1,lam_mi=500,permutation_rate=0,n_spatial=20)\n",
    "    train_loss, val_loss = model.train(edge_index,max_epochs=100,batch_size=500,use_gpu=True)\n",
    "    adata_stg.obsm['simvigo_s_'+str(i)] = model.get_latent_representation(edge_index,representation_kind='interaction',give_mean=True)"
   ]
  },
  {
   "cell_type": "code",
   "execution_count": 5,
   "id": "480fee58",
   "metadata": {},
   "outputs": [
    {
     "name": "stderr",
     "output_type": "stream",
     "text": [
      "Global seed set to 0\n",
      "Epoch 100/100: 100%|█████████████████████████████████████████████████████████████████████████████████████████████████████████████████████████████████████████████████████████████████████████████████████| 100/100 [00:45<00:00,  2.20it/s, train_loss=726, val_loss=749.3489]\n",
      "Global seed set to 1\n",
      "Epoch 100/100: 100%|█████████████████████████████████████████████████████████████████████████████████████████████████████████████████████████████████████████████████████████████████████████████████████| 100/100 [00:47<00:00,  2.10it/s, train_loss=727, val_loss=748.3678]\n",
      "Global seed set to 2\n",
      "Epoch 100/100: 100%|█████████████████████████████████████████████████████████████████████████████████████████████████████████████████████████████████████████████████████████████████████████████████████| 100/100 [00:46<00:00,  2.13it/s, train_loss=728, val_loss=749.0781]\n",
      "Global seed set to 3\n",
      "Epoch 100/100: 100%|█████████████████████████████████████████████████████████████████████████████████████████████████████████████████████████████████████████████████████████████████████████████████████| 100/100 [00:46<00:00,  2.13it/s, train_loss=730, val_loss=747.6983]\n",
      "Global seed set to 4\n",
      "Epoch 100/100: 100%|█████████████████████████████████████████████████████████████████████████████████████████████████████████████████████████████████████████████████████████████████████████████████████| 100/100 [00:45<00:00,  2.19it/s, train_loss=729, val_loss=748.5636]\n",
      "Global seed set to 5\n",
      "Epoch 100/100: 100%|█████████████████████████████████████████████████████████████████████████████████████████████████████████████████████████████████████████████████████████████████████████████████████| 100/100 [00:47<00:00,  2.12it/s, train_loss=727, val_loss=749.3462]\n",
      "Global seed set to 6\n",
      "Epoch 100/100: 100%|████████████████████████████████████████████████████████████████████████████████████████████████████████████████████████████████████████████████████████████████████████████████████| 100/100 [00:43<00:00,  2.30it/s, train_loss=727, val_loss=749.44104]\n",
      "Global seed set to 7\n",
      "Epoch 100/100: 100%|█████████████████████████████████████████████████████████████████████████████████████████████████████████████████████████████████████████████████████████████████████████████████████| 100/100 [00:46<00:00,  2.16it/s, train_loss=726, val_loss=750.3365]\n",
      "Global seed set to 8\n",
      "Epoch 100/100: 100%|█████████████████████████████████████████████████████████████████████████████████████████████████████████████████████████████████████████████████████████████████████████████████████| 100/100 [00:46<00:00,  2.13it/s, train_loss=729, val_loss=748.2281]\n",
      "Global seed set to 9\n",
      "Epoch 100/100: 100%|████████████████████████████████████████████████████████████████████████████████████████████████████████████████████████████████████████████████████████████████████████████████████| 100/100 [00:46<00:00,  2.14it/s, train_loss=727, val_loss=749.43726]\n"
     ]
    }
   ],
   "source": [
    "adata_stg.obs['batch_ct'] = adata_stg.obs['batch'].astype(str) + adata_stg.obs['cluster_L1'].astype(str)\n",
    "\n",
    "SimVIGraphOnly.setup_anndata(adata_stg,batch_key='batch_ct')\n",
    "edge_index = SimVIGraphOnly.extract_edge_index(adata_stg,n_neighbors=10,batch_key='batch')\n",
    "\n",
    "from pytorch_lightning.utilities.seed import seed_everything\n",
    "for i in range(10):\n",
    "    seed_everything(i)\n",
    "    model = SimVIGraphOnly(adata_stg,kl_weight=1,kl_gatweight=1,lam_mi=500,permutation_rate=0,n_spatial=20)\n",
    "    train_loss, val_loss = model.train(edge_index,max_epochs=100,batch_size=500,use_gpu=True)\n",
    "    adata_stg.obsm['simvigoct_s_'+str(i)] = model.get_latent_representation(edge_index,representation_kind='interaction',give_mean=True)"
   ]
  },
  {
   "cell_type": "code",
   "execution_count": 6,
   "id": "19649e07",
   "metadata": {},
   "outputs": [
    {
     "name": "stderr",
     "output_type": "stream",
     "text": [
      "/usr/local/lib/python3.8/dist-packages/scvi/data/_utils.py:156: UserWarning: Category 21 in adata.obs['_scvi_batch'] has fewer than 3 cells. Models may not train properly.\n",
      "  warnings.warn(\n",
      "Global seed set to 0\n",
      "Epoch 100/100: 100%|████████████████████████████████████████████████████████████████████████████████████████████████████████████████████████████████████████████████████████████████████████████████████| 100/100 [00:46<00:00,  2.15it/s, train_loss=720, val_loss=744.14453]\n",
      "Global seed set to 1\n",
      "Epoch 100/100: 100%|█████████████████████████████████████████████████████████████████████████████████████████████████████████████████████████████████████████████████████████████████████████████████████| 100/100 [00:47<00:00,  2.13it/s, train_loss=720, val_loss=743.9392]\n",
      "Global seed set to 2\n",
      "Epoch 100/100: 100%|█████████████████████████████████████████████████████████████████████████████████████████████████████████████████████████████████████████████████████████████████████████████████████| 100/100 [00:46<00:00,  2.14it/s, train_loss=721, val_loss=744.1223]\n",
      "Global seed set to 3\n",
      "Epoch 100/100: 100%|█████████████████████████████████████████████████████████████████████████████████████████████████████████████████████████████████████████████████████████████████████████████████████| 100/100 [00:46<00:00,  2.13it/s, train_loss=720, val_loss=745.1267]\n",
      "Global seed set to 4\n",
      "Epoch 100/100: 100%|█████████████████████████████████████████████████████████████████████████████████████████████████████████████████████████████████████████████████████████████████████████████████████| 100/100 [00:45<00:00,  2.19it/s, train_loss=720, val_loss=744.6802]\n",
      "Global seed set to 5\n",
      "Epoch 100/100: 100%|█████████████████████████████████████████████████████████████████████████████████████████████████████████████████████████████████████████████████████████████████████████████████████| 100/100 [00:46<00:00,  2.14it/s, train_loss=721, val_loss=744.4736]\n",
      "Global seed set to 6\n",
      "Epoch 100/100: 100%|████████████████████████████████████████████████████████████████████████████████████████████████████████████████████████████████████████████████████████████████████████████████████| 100/100 [00:47<00:00,  2.12it/s, train_loss=720, val_loss=744.94507]\n",
      "Global seed set to 7\n",
      "Epoch 100/100: 100%|██████████████████████████████████████████████████████████████████████████████████████████████████████████████████████████████████████████████████████████████████████████████████████| 100/100 [00:47<00:00,  2.11it/s, train_loss=719, val_loss=744.064]\n",
      "Global seed set to 8\n",
      "Epoch 100/100: 100%|█████████████████████████████████████████████████████████████████████████████████████████████████████████████████████████████████████████████████████████████████████████████████████| 100/100 [00:47<00:00,  2.11it/s, train_loss=721, val_loss=743.0374]\n",
      "Global seed set to 9\n",
      "Epoch 100/100: 100%|█████████████████████████████████████████████████████████████████████████████████████████████████████████████████████████████████████████████████████████████████████████████████████| 100/100 [00:46<00:00,  2.13it/s, train_loss=720, val_loss=742.9655]\n"
     ]
    }
   ],
   "source": [
    "adata_stg.obs['batch_ct2'] = adata_stg.obs['batch'].astype(str) + adata_stg.obs['cluster_L2'].astype(str)\n",
    "\n",
    "SimVIGraphOnly.setup_anndata(adata_stg,batch_key='batch_ct2')\n",
    "edge_index = SimVIGraphOnly.extract_edge_index(adata_stg,n_neighbors=10,batch_key='batch')\n",
    "\n",
    "from pytorch_lightning.utilities.seed import seed_everything\n",
    "for i in range(10):\n",
    "    seed_everything(i)\n",
    "    model = SimVIGraphOnly(adata_stg,kl_weight=1,kl_gatweight=1,lam_mi=500,permutation_rate=0,n_spatial=20)\n",
    "    train_loss, val_loss = model.train(edge_index,max_epochs=100,batch_size=500,use_gpu=True)\n",
    "    adata_stg.obsm['simvigoct2_s_'+str(i)] = model.get_latent_representation(edge_index,representation_kind='interaction',give_mean=True)"
   ]
  },
  {
   "cell_type": "code",
   "execution_count": 7,
   "id": "f45d6b6c",
   "metadata": {},
   "outputs": [
    {
     "name": "stderr",
     "output_type": "stream",
     "text": [
      "Global seed set to 0\n",
      "GPU available: True, used: True\n",
      "TPU available: False, using: 0 TPU cores\n",
      "IPU available: False, using: 0 IPUs\n",
      "LOCAL_RANK: 0 - CUDA_VISIBLE_DEVICES: [0,1,2,3,4,5,6,7]\n"
     ]
    },
    {
     "name": "stdout",
     "output_type": "stream",
     "text": [
      "Epoch 100/100: 100%|█████████████████████████████████████████████████████████████████████████████████████████████████████████████████████████████████████████████████████████████████████████████████████████████████████| 100/100 [00:40<00:00,  2.49it/s, loss=713, v_num=1]"
     ]
    },
    {
     "name": "stderr",
     "output_type": "stream",
     "text": [
      "Global seed set to 1\n"
     ]
    },
    {
     "name": "stdout",
     "output_type": "stream",
     "text": [
      "\n"
     ]
    },
    {
     "name": "stderr",
     "output_type": "stream",
     "text": [
      "GPU available: True, used: True\n",
      "TPU available: False, using: 0 TPU cores\n",
      "IPU available: False, using: 0 IPUs\n",
      "LOCAL_RANK: 0 - CUDA_VISIBLE_DEVICES: [0,1,2,3,4,5,6,7]\n"
     ]
    },
    {
     "name": "stdout",
     "output_type": "stream",
     "text": [
      "Epoch 100/100: 100%|█████████████████████████████████████████████████████████████████████████████████████████████████████████████████████████████████████████████████████████████████████████████████████████████████████| 100/100 [00:40<00:00,  2.49it/s, loss=715, v_num=1]"
     ]
    },
    {
     "name": "stderr",
     "output_type": "stream",
     "text": [
      "Global seed set to 2\n"
     ]
    },
    {
     "name": "stdout",
     "output_type": "stream",
     "text": [
      "\n"
     ]
    },
    {
     "name": "stderr",
     "output_type": "stream",
     "text": [
      "GPU available: True, used: True\n",
      "TPU available: False, using: 0 TPU cores\n",
      "IPU available: False, using: 0 IPUs\n",
      "LOCAL_RANK: 0 - CUDA_VISIBLE_DEVICES: [0,1,2,3,4,5,6,7]\n"
     ]
    },
    {
     "name": "stdout",
     "output_type": "stream",
     "text": [
      "Epoch 100/100: 100%|█████████████████████████████████████████████████████████████████████████████████████████████████████████████████████████████████████████████████████████████████████████████████████████████████████| 100/100 [00:39<00:00,  2.51it/s, loss=718, v_num=1]"
     ]
    },
    {
     "name": "stderr",
     "output_type": "stream",
     "text": [
      "Global seed set to 3\n"
     ]
    },
    {
     "name": "stdout",
     "output_type": "stream",
     "text": [
      "\n"
     ]
    },
    {
     "name": "stderr",
     "output_type": "stream",
     "text": [
      "GPU available: True, used: True\n",
      "TPU available: False, using: 0 TPU cores\n",
      "IPU available: False, using: 0 IPUs\n",
      "LOCAL_RANK: 0 - CUDA_VISIBLE_DEVICES: [0,1,2,3,4,5,6,7]\n"
     ]
    },
    {
     "name": "stdout",
     "output_type": "stream",
     "text": [
      "Epoch 100/100: 100%|█████████████████████████████████████████████████████████████████████████████████████████████████████████████████████████████████████████████████████████████████████████████████████████████████████| 100/100 [00:39<00:00,  2.52it/s, loss=715, v_num=1]"
     ]
    },
    {
     "name": "stderr",
     "output_type": "stream",
     "text": [
      "Global seed set to 4\n"
     ]
    },
    {
     "name": "stdout",
     "output_type": "stream",
     "text": [
      "\n"
     ]
    },
    {
     "name": "stderr",
     "output_type": "stream",
     "text": [
      "GPU available: True, used: True\n",
      "TPU available: False, using: 0 TPU cores\n",
      "IPU available: False, using: 0 IPUs\n",
      "LOCAL_RANK: 0 - CUDA_VISIBLE_DEVICES: [0,1,2,3,4,5,6,7]\n"
     ]
    },
    {
     "name": "stdout",
     "output_type": "stream",
     "text": [
      "Epoch 100/100: 100%|█████████████████████████████████████████████████████████████████████████████████████████████████████████████████████████████████████████████████████████████████████████████████████████████████████| 100/100 [00:39<00:00,  2.54it/s, loss=717, v_num=1]"
     ]
    },
    {
     "name": "stderr",
     "output_type": "stream",
     "text": [
      "Global seed set to 5\n"
     ]
    },
    {
     "name": "stdout",
     "output_type": "stream",
     "text": [
      "\n"
     ]
    },
    {
     "name": "stderr",
     "output_type": "stream",
     "text": [
      "GPU available: True, used: True\n",
      "TPU available: False, using: 0 TPU cores\n",
      "IPU available: False, using: 0 IPUs\n",
      "LOCAL_RANK: 0 - CUDA_VISIBLE_DEVICES: [0,1,2,3,4,5,6,7]\n"
     ]
    },
    {
     "name": "stdout",
     "output_type": "stream",
     "text": [
      "Epoch 100/100: 100%|█████████████████████████████████████████████████████████████████████████████████████████████████████████████████████████████████████████████████████████████████████████████████████████████████████| 100/100 [00:39<00:00,  2.53it/s, loss=715, v_num=1]"
     ]
    },
    {
     "name": "stderr",
     "output_type": "stream",
     "text": [
      "Global seed set to 6\n"
     ]
    },
    {
     "name": "stdout",
     "output_type": "stream",
     "text": [
      "\n"
     ]
    },
    {
     "name": "stderr",
     "output_type": "stream",
     "text": [
      "GPU available: True, used: True\n",
      "TPU available: False, using: 0 TPU cores\n",
      "IPU available: False, using: 0 IPUs\n",
      "LOCAL_RANK: 0 - CUDA_VISIBLE_DEVICES: [0,1,2,3,4,5,6,7]\n"
     ]
    },
    {
     "name": "stdout",
     "output_type": "stream",
     "text": [
      "Epoch 100/100: 100%|█████████████████████████████████████████████████████████████████████████████████████████████████████████████████████████████████████████████████████████████████████████████████████████████████████| 100/100 [00:39<00:00,  2.50it/s, loss=713, v_num=1]"
     ]
    },
    {
     "name": "stderr",
     "output_type": "stream",
     "text": [
      "Global seed set to 7\n"
     ]
    },
    {
     "name": "stdout",
     "output_type": "stream",
     "text": [
      "\n"
     ]
    },
    {
     "name": "stderr",
     "output_type": "stream",
     "text": [
      "GPU available: True, used: True\n",
      "TPU available: False, using: 0 TPU cores\n",
      "IPU available: False, using: 0 IPUs\n",
      "LOCAL_RANK: 0 - CUDA_VISIBLE_DEVICES: [0,1,2,3,4,5,6,7]\n"
     ]
    },
    {
     "name": "stdout",
     "output_type": "stream",
     "text": [
      "Epoch 100/100: 100%|█████████████████████████████████████████████████████████████████████████████████████████████████████████████████████████████████████████████████████████████████████████████████████████████████████| 100/100 [00:39<00:00,  2.55it/s, loss=716, v_num=1]"
     ]
    },
    {
     "name": "stderr",
     "output_type": "stream",
     "text": [
      "Global seed set to 8\n"
     ]
    },
    {
     "name": "stdout",
     "output_type": "stream",
     "text": [
      "\n"
     ]
    },
    {
     "name": "stderr",
     "output_type": "stream",
     "text": [
      "GPU available: True, used: True\n",
      "TPU available: False, using: 0 TPU cores\n",
      "IPU available: False, using: 0 IPUs\n",
      "LOCAL_RANK: 0 - CUDA_VISIBLE_DEVICES: [0,1,2,3,4,5,6,7]\n"
     ]
    },
    {
     "name": "stdout",
     "output_type": "stream",
     "text": [
      "Epoch 100/100: 100%|█████████████████████████████████████████████████████████████████████████████████████████████████████████████████████████████████████████████████████████████████████████████████████████████████████| 100/100 [00:39<00:00,  2.51it/s, loss=720, v_num=1]"
     ]
    },
    {
     "name": "stderr",
     "output_type": "stream",
     "text": [
      "Global seed set to 9\n"
     ]
    },
    {
     "name": "stdout",
     "output_type": "stream",
     "text": [
      "\n"
     ]
    },
    {
     "name": "stderr",
     "output_type": "stream",
     "text": [
      "GPU available: True, used: True\n",
      "TPU available: False, using: 0 TPU cores\n",
      "IPU available: False, using: 0 IPUs\n",
      "LOCAL_RANK: 0 - CUDA_VISIBLE_DEVICES: [0,1,2,3,4,5,6,7]\n"
     ]
    },
    {
     "name": "stdout",
     "output_type": "stream",
     "text": [
      "Epoch 100/100: 100%|█████████████████████████████████████████████████████████████████████████████████████████████████████████████████████████████████████████████████████████████████████████████████████████████████████| 100/100 [00:39<00:00,  2.51it/s, loss=718, v_num=1]\n"
     ]
    }
   ],
   "source": [
    "import scvi\n",
    "scvi.model.SCVI.setup_anndata(adata_stg,batch_key='batch')\n",
    "for i in range(10):\n",
    "    seed_everything(i)\n",
    "    vae = scvi.model.SCVI(adata_stg, n_layers=2, n_latent=20)\n",
    "    vae.train(max_epochs=100,use_gpu=True,batch_size=500)\n",
    "    adata_stg.obsm['scvi_'+str(i)] = vae.get_latent_representation(adata_stg)"
   ]
  },
  {
   "cell_type": "code",
   "execution_count": 5,
   "id": "257bd356",
   "metadata": {},
   "outputs": [
    {
     "name": "stderr",
     "output_type": "stream",
     "text": [
      "Global seed set to 0\n",
      "Epoch 100/100: 100%|████████████████████████████████████████████████████████████████████████████████████████████████████████████████████████████████████████████████████████████████████████████████████| 100/100 [07:28<00:00,  4.48s/it, train_loss=727, val_loss=746.05255]\n",
      "Global seed set to 1\n",
      "Epoch 100/100: 100%|████████████████████████████████████████████████████████████████████████████████████████████████████████████████████████████████████████████████████████████████████████████████████| 100/100 [07:28<00:00,  4.49s/it, train_loss=728, val_loss=745.02673]\n",
      "Global seed set to 2\n",
      "Epoch 100/100: 100%|█████████████████████████████████████████████████████████████████████████████████████████████████████████████████████████████████████████████████████████████████████████████████████| 100/100 [06:56<00:00,  4.16s/it, train_loss=728, val_loss=745.9001]\n",
      "Global seed set to 3\n",
      "Epoch 100/100: 100%|████████████████████████████████████████████████████████████████████████████████████████████████████████████████████████████████████████████████████████████████████████████████████| 100/100 [06:56<00:00,  4.16s/it, train_loss=727, val_loss=745.57104]\n",
      "Global seed set to 4\n",
      "Epoch 100/100: 100%|█████████████████████████████████████████████████████████████████████████████████████████████████████████████████████████████████████████████████████████████████████████████████████| 100/100 [07:03<00:00,  4.23s/it, train_loss=726, val_loss=745.0743]\n",
      "Global seed set to 5\n",
      "Epoch 100/100: 100%|█████████████████████████████████████████████████████████████████████████████████████████████████████████████████████████████████████████████████████████████████████████████████████| 100/100 [07:01<00:00,  4.22s/it, train_loss=727, val_loss=745.5317]\n",
      "Global seed set to 6\n",
      "Epoch 100/100: 100%|████████████████████████████████████████████████████████████████████████████████████████████████████████████████████████████████████████████████████████████████████████████████████| 100/100 [07:58<00:00,  4.79s/it, train_loss=726, val_loss=745.15295]\n",
      "Global seed set to 7\n",
      "Epoch 100/100: 100%|█████████████████████████████████████████████████████████████████████████████████████████████████████████████████████████████████████████████████████████████████████████████████████| 100/100 [08:16<00:00,  4.97s/it, train_loss=726, val_loss=744.3211]\n",
      "Global seed set to 8\n",
      "Epoch 100/100: 100%|████████████████████████████████████████████████████████████████████████████████████████████████████████████████████████████████████████████████████████████████████████████████████| 100/100 [07:03<00:00,  4.24s/it, train_loss=728, val_loss=746.36523]\n",
      "Global seed set to 9\n",
      "Epoch 100/100: 100%|█████████████████████████████████████████████████████████████████████████████████████████████████████████████████████████████████████████████████████████████████████████████████████| 100/100 [07:15<00:00,  4.35s/it, train_loss=727, val_loss=745.0389]\n"
     ]
    }
   ],
   "source": [
    "from simvi.model import SimVI\n",
    "SimVI.setup_anndata(adata_stg,batch_key='batch')\n",
    "edge_index = SimVI.extract_edge_index(adata_stg,n_neighbors=10,batch_key='batch')\n",
    "from pytorch_lightning.utilities.seed import seed_everything\n",
    "for i in range(10):\n",
    "    seed_everything(i)\n",
    "    model = SimVI(adata_stg,kl_weight=1,kl_gatweight=0.01,lam_mi=1000,permutation_rate=0.5,n_spatial=20,n_intrinsic=20)\n",
    "    train_loss, val_loss = model.train(edge_index,max_epochs=100,batch_size=500,use_gpu=True,mae_epochs=25)\n",
    "    adata_stg.obsm['simvikl2_z'+str(i)] = model.get_latent_representation(edge_index,representation_kind='intrinsic',give_mean=True)\n",
    "    adata_stg.obsm['simvikl2_lz'+str(i)] = model.get_latent_representation(edge_index,representation_kind='output',give_mean=True)\n",
    "    adata_stg.obsm['simvikl2_s'+str(i)] = model.get_latent_representation(edge_index,representation_kind='interaction',give_mean=True)"
   ]
  },
  {
   "cell_type": "code",
   "execution_count": 19,
   "id": "90eefe1c",
   "metadata": {},
   "outputs": [],
   "source": [
    "adata_stg.write('stg_baselines.h5ad')"
   ]
  }
 ],
 "metadata": {
  "kernelspec": {
   "display_name": "Python 3 (ipykernel)",
   "language": "python",
   "name": "python3"
  },
  "language_info": {
   "codemirror_mode": {
    "name": "ipython",
    "version": 3
   },
   "file_extension": ".py",
   "mimetype": "text/x-python",
   "name": "python",
   "nbconvert_exporter": "python",
   "pygments_lexer": "ipython3",
   "version": "3.9.13"
  }
 },
 "nbformat": 4,
 "nbformat_minor": 5
}
