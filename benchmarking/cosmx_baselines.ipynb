{
 "cells": [
  {
   "cell_type": "code",
   "execution_count": 1,
   "id": "ce0ca0e5",
   "metadata": {},
   "outputs": [],
   "source": [
    "import scanpy as sc\n",
    "import squidpy as sq\n",
    "\n",
    "import numpy as np\n",
    "import pandas as pd\n",
    "\n",
    "adata = sc.read_h5ad('datasets/cosmx_melanoma/Melanoma_5612.h5ad')"
   ]
  },
  {
   "cell_type": "code",
   "execution_count": 3,
   "id": "df1ded46",
   "metadata": {},
   "outputs": [
    {
     "name": "stderr",
     "output_type": "stream",
     "text": [
      "Global seed set to 0\n",
      "No GPU/TPU found, falling back to CPU. (Set TF_CPP_MIN_LOG_LEVEL=0 and rerun for more info.)\n"
     ]
    }
   ],
   "source": [
    "from simvi.model import SimVI\n",
    "SimVI.setup_anndata(adata)\n",
    "edge_index = SimVI.extract_edge_index(adata,n_neighbors=10)"
   ]
  },
  {
   "cell_type": "code",
   "execution_count": null,
   "id": "3b240861",
   "metadata": {},
   "outputs": [
    {
     "name": "stderr",
     "output_type": "stream",
     "text": [
      "Global seed set to 1\n",
      "Epoch 100/100: 100%|█████████████████████████████████████████████████████████████████████████████████████████████████████████████████████████████████████████████████████████████████████| 100/100 [14:55<00:00,  8.95s/it, train_loss=480, val_loss=485.00897]\n",
      "Global seed set to 2\n",
      "Epoch 100/100: 100%|█████████████████████████████████████████████████████████████████████████████████████████████████████████████████████████████████████████████████████████████████████| 100/100 [15:08<00:00,  9.09s/it, train_loss=480, val_loss=485.02945]\n",
      "Global seed set to 3\n",
      "Epoch 100/100: 100%|█████████████████████████████████████████████████████████████████████████████████████████████████████████████████████████████████████████████████████████████████████| 100/100 [15:11<00:00,  9.11s/it, train_loss=478, val_loss=483.47632]\n",
      "Global seed set to 4\n",
      "Epoch 14/100:  14%|███████████████████████▍                                                                                                                                               | 14/100 [02:38<16:21, 11.41s/it, train_loss=526, val_loss=525.35254]"
     ]
    }
   ],
   "source": [
    "from pytorch_lightning.utilities.seed import seed_everything\n",
    "for i in range(5):\n",
    "    seed_everything(i+1)\n",
    "    model = SimVI(adata,kl_weight=1,kl_gatweight=0.01,lam_mi=1000,permutation_rate=0.5,n_spatial=20,n_intrinsic=20)\n",
    "    train_loss, val_loss = model.train(edge_index,max_epochs=100,batch_size=5000,use_gpu=True,mae_epochs=75,device='cuda:0')\n",
    "    adata.obsm['simvi_z'+str(i)] = model.get_latent_representation(edge_index,representation_kind='intrinsic',give_mean=True)\n",
    "    adata.obsm['simvi_s'+str(i)] = model.get_latent_representation(edge_index,representation_kind='interaction',give_mean=True)\n",
    "    adata.obsm['simvi_'+str(i)] = np.hstack((adata.obsm['simvi_z'+str(i)],adata.obsm['simvi_s'+str(i)]))\n",
    "    np.save('Benchmarking_results/cosmx/'+'simvi_z'+str(i)+'.npy',adata.obsm['simvi_z'+str(i)])\n",
    "    np.save('Benchmarking_results/cosmx/'+'simvi_s'+str(i)+'.npy',adata.obsm['simvi_s'+str(i)])\n",
    "    np.save('Benchmarking_results/cosmx/'+'simvi_'+str(i)+'.npy',adata.obsm['simvi_'+str(i)])"
   ]
  },
  {
   "cell_type": "code",
   "execution_count": null,
   "id": "2d8d9cc8",
   "metadata": {},
   "outputs": [],
   "source": [
    "from simvi.model import SimVIGraphOnly\n",
    "SimVIGraphOnly.setup_anndata(adata,batch_key='celltype')\n",
    "edge_index = SimVIGraphOnly.extract_edge_index(adata,n_neighbors=10)\n",
    "\n",
    "## likelihood\n",
    "\n",
    "from pytorch_lightning.utilities.seed import seed_everything\n",
    "for i in range(5):\n",
    "    seed_everything(i+1)\n",
    "    model = SimVIGraphOnly(adata,kl_weight=1,kl_gatweight=1,lam_mi=1000,permutation_rate=0,n_spatial=20)\n",
    "    train_loss, val_loss = model.train(edge_index,max_epochs=100,batch_size=5000,use_gpu=True)\n",
    "    adata.obsm['simvigoct_s'+str(i)] = model.get_latent_representation(edge_index,representation_kind='interaction',give_mean=True)\n",
    "    np.save('Benchmarking_results/cosmx/'+'simvigoct_s'+str(i)+'.npy',adata.obsm['simvigoct_s'+str(i)])"
   ]
  },
  {
   "cell_type": "code",
   "execution_count": 2,
   "id": "d1db1f8c",
   "metadata": {},
   "outputs": [
    {
     "name": "stderr",
     "output_type": "stream",
     "text": [
      "Global seed set to 0\n",
      "No GPU/TPU found, falling back to CPU. (Set TF_CPP_MIN_LOG_LEVEL=0 and rerun for more info.)\n",
      "Global seed set to 1\n",
      "Epoch 100/100: 100%|██████████████████████████████████████████████████████████████████████████████████████████████████████████████████████████████████████████████████████████████████████| 100/100 [00:26<00:00,  3.81it/s, train_loss=469, val_loss=475.5831]\n",
      "Global seed set to 2\n",
      "Epoch 100/100: 100%|█████████████████████████████████████████████████████████████████████████████████████████████████████████████████████████████████████████████████████████████████████| 100/100 [00:25<00:00,  3.93it/s, train_loss=465, val_loss=472.69278]\n",
      "Global seed set to 3\n",
      "Epoch 100/100: 100%|█████████████████████████████████████████████████████████████████████████████████████████████████████████████████████████████████████████████████████████████████████| 100/100 [00:25<00:00,  3.90it/s, train_loss=468, val_loss=474.73154]\n",
      "Global seed set to 4\n",
      "Epoch 100/100: 100%|█████████████████████████████████████████████████████████████████████████████████████████████████████████████████████████████████████████████████████████████████████| 100/100 [00:25<00:00,  3.89it/s, train_loss=468, val_loss=475.05637]\n",
      "Global seed set to 5\n",
      "Epoch 100/100: 100%|█████████████████████████████████████████████████████████████████████████████████████████████████████████████████████████████████████████████████████████████████████| 100/100 [00:25<00:00,  3.89it/s, train_loss=467, val_loss=473.61588]\n"
     ]
    }
   ],
   "source": [
    "from simvi.model import SimVIGraphOnly\n",
    "SimVIGraphOnly.setup_anndata(adata,batch_key='CPID_str')\n",
    "edge_index = SimVIGraphOnly.extract_edge_index(adata,n_neighbors=10)\n",
    "\n",
    "## likelihood\n",
    "\n",
    "from pytorch_lightning.utilities.seed import seed_everything\n",
    "for i in range(5):\n",
    "    seed_everything(i+1)\n",
    "    model = SimVIGraphOnly(adata,kl_weight=1,kl_gatweight=1,lam_mi=1000,permutation_rate=0,n_spatial=20)\n",
    "    train_loss, val_loss = model.train(edge_index,max_epochs=100,batch_size=5000,use_gpu=True)\n",
    "    adata.obsm['simvigopt_s'+str(i)] = model.get_latent_representation(edge_index,representation_kind='interaction',give_mean=True)\n",
    "    np.save('Benchmarking_results/cosmx/'+'simvigopt_s'+str(i)+'.npy',adata.obsm['simvigopt_s'+str(i)])"
   ]
  },
  {
   "cell_type": "code",
   "execution_count": null,
   "id": "b912bf52",
   "metadata": {},
   "outputs": [],
   "source": [
    "SimVIGraphOnly.setup_anndata(adata)\n",
    "\n",
    "## likelihood\n",
    "\n",
    "from pytorch_lightning.utilities.seed import seed_everything\n",
    "for i in range(5):\n",
    "    seed_everything(i+1)\n",
    "    model = SimVIGraphOnly(adata,kl_weight=1,kl_gatweight=1,lam_mi=1000,permutation_rate=0,n_spatial=20)\n",
    "    train_loss, val_loss = model.train(edge_index,max_epochs=100,batch_size=5000,use_gpu=True)\n",
    "    adata.obsm['simvigo_s'+str(i)] = model.get_latent_representation(edge_index,representation_kind='interaction',give_mean=True)\n",
    "    np.save('Benchmarking_results/cosmx/'+'simvigo_s'+str(i)+'.npy',adata.obsm['simvigo_s'+str(i)])"
   ]
  },
  {
   "cell_type": "code",
   "execution_count": null,
   "id": "d652390c",
   "metadata": {},
   "outputs": [],
   "source": [
    "import scvi\n",
    "scvi.model.SCVI.setup_anndata(adata)\n",
    "for i in range(5):\n",
    "    seed_everything(i)\n",
    "    vae = scvi.model.SCVI(adata, n_layers=2, n_latent=20)\n",
    "    vae.train(max_epochs=100,use_gpu=True,batch_size=5000)\n",
    "    adata.obsm['scvi'+str(i)] = vae.get_latent_representation(adata)\n",
    "    np.save('Benchmarking_results/cosmx/'+'scvi'+str(i)+'.npy',adata.obsm['scvi'+str(i)])"
   ]
  },
  {
   "cell_type": "code",
   "execution_count": 3,
   "id": "d00e7981",
   "metadata": {},
   "outputs": [
    {
     "name": "stderr",
     "output_type": "stream",
     "text": [
      "Global seed set to 0\n",
      "GPU available: True, used: True\n",
      "TPU available: False, using: 0 TPU cores\n",
      "IPU available: False, using: 0 IPUs\n",
      "LOCAL_RANK: 0 - CUDA_VISIBLE_DEVICES: [0,1,2,3,4,5,6,7]\n"
     ]
    },
    {
     "name": "stdout",
     "output_type": "stream",
     "text": [
      "Epoch 100/100: 100%|██████████████████████████████████████████████████████████████████████████████████████████████████████████████████████████████████████████████████████████████████████████████████████| 100/100 [00:24<00:00,  4.13it/s, loss=462, v_num=1]\n"
     ]
    },
    {
     "name": "stderr",
     "output_type": "stream",
     "text": [
      "Global seed set to 1\n",
      "GPU available: True, used: True\n",
      "TPU available: False, using: 0 TPU cores\n",
      "IPU available: False, using: 0 IPUs\n",
      "LOCAL_RANK: 0 - CUDA_VISIBLE_DEVICES: [0,1,2,3,4,5,6,7]\n"
     ]
    },
    {
     "name": "stdout",
     "output_type": "stream",
     "text": [
      "Epoch 100/100: 100%|██████████████████████████████████████████████████████████████████████████████████████████████████████████████████████████████████████████████████████████████████████████████████████| 100/100 [00:23<00:00,  4.33it/s, loss=464, v_num=1]\n"
     ]
    },
    {
     "name": "stderr",
     "output_type": "stream",
     "text": [
      "Global seed set to 2\n",
      "GPU available: True, used: True\n",
      "TPU available: False, using: 0 TPU cores\n",
      "IPU available: False, using: 0 IPUs\n",
      "LOCAL_RANK: 0 - CUDA_VISIBLE_DEVICES: [0,1,2,3,4,5,6,7]\n"
     ]
    },
    {
     "name": "stdout",
     "output_type": "stream",
     "text": [
      "Epoch 100/100: 100%|██████████████████████████████████████████████████████████████████████████████████████████████████████████████████████████████████████████████████████████████████████████████████████| 100/100 [00:23<00:00,  4.27it/s, loss=459, v_num=1]\n"
     ]
    },
    {
     "name": "stderr",
     "output_type": "stream",
     "text": [
      "Global seed set to 3\n",
      "GPU available: True, used: True\n",
      "TPU available: False, using: 0 TPU cores\n",
      "IPU available: False, using: 0 IPUs\n",
      "LOCAL_RANK: 0 - CUDA_VISIBLE_DEVICES: [0,1,2,3,4,5,6,7]\n"
     ]
    },
    {
     "name": "stdout",
     "output_type": "stream",
     "text": [
      "Epoch 100/100: 100%|██████████████████████████████████████████████████████████████████████████████████████████████████████████████████████████████████████████████████████████████████████████████████████| 100/100 [00:23<00:00,  4.28it/s, loss=462, v_num=1]\n"
     ]
    },
    {
     "name": "stderr",
     "output_type": "stream",
     "text": [
      "Global seed set to 4\n",
      "GPU available: True, used: True\n",
      "TPU available: False, using: 0 TPU cores\n",
      "IPU available: False, using: 0 IPUs\n",
      "LOCAL_RANK: 0 - CUDA_VISIBLE_DEVICES: [0,1,2,3,4,5,6,7]\n"
     ]
    },
    {
     "name": "stdout",
     "output_type": "stream",
     "text": [
      "Epoch 100/100: 100%|██████████████████████████████████████████████████████████████████████████████████████████████████████████████████████████████████████████████████████████████████████████████████████| 100/100 [00:22<00:00,  4.48it/s, loss=463, v_num=1]\n"
     ]
    }
   ],
   "source": [
    "import scvi\n",
    "scvi.model.SCVI.setup_anndata(adata,batch_key='CPID_str')\n",
    "for i in range(5):\n",
    "    seed_everything(i)\n",
    "    vae = scvi.model.SCVI(adata, n_layers=2, n_latent=20)\n",
    "    vae.train(max_epochs=100,use_gpu=True,batch_size=5000)\n",
    "    adata.obsm['scvi'+str(i)] = vae.get_latent_representation(adata)\n",
    "    np.save('Benchmarking_results/cosmx/'+'scvipt'+str(i)+'.npy',adata.obsm['scvi'+str(i)])"
   ]
  },
  {
   "cell_type": "code",
   "execution_count": 2,
   "id": "f549dd34",
   "metadata": {},
   "outputs": [
    {
     "name": "stderr",
     "output_type": "stream",
     "text": [
      "Global seed set to 0\n",
      "No GPU/TPU found, falling back to CPU. (Set TF_CPP_MIN_LOG_LEVEL=0 and rerun for more info.)\n",
      "Global seed set to 0\n",
      "GPU available: True, used: True\n",
      "TPU available: False, using: 0 TPU cores\n",
      "IPU available: False, using: 0 IPUs\n",
      "LOCAL_RANK: 0 - CUDA_VISIBLE_DEVICES: [0,1,2,3,4,5,6,7]\n"
     ]
    },
    {
     "name": "stdout",
     "output_type": "stream",
     "text": [
      "Epoch 100/100: 100%|██████████████████████████████████████████████████████████████████████████████████████████████████████████████████████████████████████████████████████████████████████████████████████| 100/100 [00:24<00:00,  4.13it/s, loss=464, v_num=1]\n"
     ]
    }
   ],
   "source": [
    "import scvi\n",
    "scvi.model.SCVI.setup_anndata(adata)\n",
    "from pytorch_lightning.utilities.seed import seed_everything\n",
    "seed_everything(0)\n",
    "vae = scvi.model.SCVI(adata, n_layers=2, n_latent=20)\n",
    "vae.train(max_epochs=100,use_gpu=True,batch_size=5000)\n",
    "X = vae.get_normalized_expression()\n",
    "np.save('Bio_results/cosmx/scvi_nc.npy',X)"
   ]
  },
  {
   "cell_type": "code",
   "execution_count": 4,
   "id": "b2106aa5",
   "metadata": {},
   "outputs": [
    {
     "name": "stderr",
     "output_type": "stream",
     "text": [
      "Global seed set to 0\n",
      "Epoch 100/100: 100%|██████████████████████████████████████████████████████████████████████████████████████████████████████████████████████████████████████████████████████████████████████| 100/100 [00:25<00:00,  3.93it/s, train_loss=478, val_loss=485.3515]\n"
     ]
    }
   ],
   "source": [
    "from simvi.model import SimVIGraphOnly\n",
    "SimVIGraphOnly.setup_anndata(adata)\n",
    "edge_index = SimVIGraphOnly.extract_edge_index(adata,n_neighbors=10)\n",
    "\n",
    "SimVIGraphOnly.setup_anndata(adata)\n",
    "\n",
    "## likelihood\n",
    "\n",
    "seed_everything(0)\n",
    "model = SimVIGraphOnly(adata,kl_weight=1,kl_gatweight=1,lam_mi=1000,permutation_rate=0,n_spatial=20)\n",
    "train_loss, val_loss = model.train(edge_index,max_epochs=100,batch_size=5000,use_gpu=True)\n",
    "X = model.get_decoded_expression(edge_index)\n",
    "np.save('Bio_results/cosmx/graphonly_nc.npy',X)"
   ]
  },
  {
   "cell_type": "code",
   "execution_count": 2,
   "id": "eec1ccf5",
   "metadata": {},
   "outputs": [
    {
     "name": "stderr",
     "output_type": "stream",
     "text": [
      "Global seed set to 0\n",
      "No GPU/TPU found, falling back to CPU. (Set TF_CPP_MIN_LOG_LEVEL=0 and rerun for more info.)\n",
      "Global seed set to 0\n",
      "Epoch 100/100: 100%|█████████████████████████████████████████████████████████████████████████████████████████████████████████████████████████████████████████████████████████████████████| 100/100 [00:25<00:00,  3.86it/s, train_loss=478, val_loss=485.39047]\n"
     ]
    }
   ],
   "source": [
    "from simvi.model import SimVIGraphOnly\n",
    "SimVIGraphOnly.setup_anndata(adata,batch_key='celltype')\n",
    "edge_index = SimVIGraphOnly.extract_edge_index(adata,n_neighbors=10)\n",
    "\n",
    "SimVIGraphOnly.setup_anndata(adata)\n",
    "\n",
    "## likelihood\n",
    "from pytorch_lightning.utilities.seed import seed_everything\n",
    "seed_everything(0)\n",
    "model = SimVIGraphOnly(adata,kl_weight=1,kl_gatweight=1,lam_mi=1000,permutation_rate=0,n_spatial=20)\n",
    "train_loss, val_loss = model.train(edge_index,max_epochs=100,batch_size=5000,use_gpu=True)\n",
    "X = model.get_decoded_expression(edge_index)\n",
    "np.save('Bio_results/cosmx/ncem_nc.npy',X)"
   ]
  }
 ],
 "metadata": {
  "kernelspec": {
   "display_name": "Python 3 (ipykernel)",
   "language": "python",
   "name": "python3"
  },
  "language_info": {
   "codemirror_mode": {
    "name": "ipython",
    "version": 3
   },
   "file_extension": ".py",
   "mimetype": "text/x-python",
   "name": "python",
   "nbconvert_exporter": "python",
   "pygments_lexer": "ipython3",
   "version": "3.9.13"
  }
 },
 "nbformat": 4,
 "nbformat_minor": 5
}
