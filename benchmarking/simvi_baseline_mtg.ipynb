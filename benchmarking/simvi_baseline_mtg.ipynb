{
 "cells": [
  {
   "cell_type": "code",
   "execution_count": 1,
   "id": "f724a518",
   "metadata": {},
   "outputs": [],
   "source": [
    "import scanpy as sc\n",
    "import squidpy as sq\n",
    "\n",
    "import numpy as np\n",
    "import pandas as pd"
   ]
  },
  {
   "cell_type": "code",
   "execution_count": 2,
   "id": "6ba69794",
   "metadata": {},
   "outputs": [
    {
     "name": "stderr",
     "output_type": "stream",
     "text": [
      "/tmp/ipykernel_4091933/3933570242.py:10: SettingWithCopyWarning: \n",
      "A value is trying to be set on a copy of a slice from a DataFrame\n",
      "\n",
      "See the caveats in the documentation: https://pandas.pydata.org/pandas-docs/stable/user_guide/indexing.html#returning-a-view-versus-a-copy\n",
      "  adata1.obs['niche'][adata1.obs['coord']> -1500] = 'N2'\n",
      "/tmp/ipykernel_4091933/3933570242.py:11: SettingWithCopyWarning: \n",
      "A value is trying to be set on a copy of a slice from a DataFrame\n",
      "\n",
      "See the caveats in the documentation: https://pandas.pydata.org/pandas-docs/stable/user_guide/indexing.html#returning-a-view-versus-a-copy\n",
      "  adata1.obs['niche'][adata1.obs['coord']> -1000] = 'N3'\n",
      "/tmp/ipykernel_4091933/3933570242.py:12: SettingWithCopyWarning: \n",
      "A value is trying to be set on a copy of a slice from a DataFrame\n",
      "\n",
      "See the caveats in the documentation: https://pandas.pydata.org/pandas-docs/stable/user_guide/indexing.html#returning-a-view-versus-a-copy\n",
      "  adata1.obs['niche'][adata1.obs['coord']> -200] = 'N4'\n",
      "/tmp/ipykernel_4091933/3933570242.py:13: SettingWithCopyWarning: \n",
      "A value is trying to be set on a copy of a slice from a DataFrame\n",
      "\n",
      "See the caveats in the documentation: https://pandas.pydata.org/pandas-docs/stable/user_guide/indexing.html#returning-a-view-versus-a-copy\n",
      "  adata1.obs['niche'][adata1.obs['coord']> 350] = 'N5'\n",
      "/tmp/ipykernel_4091933/3933570242.py:17: SettingWithCopyWarning: \n",
      "A value is trying to be set on a copy of a slice from a DataFrame\n",
      "\n",
      "See the caveats in the documentation: https://pandas.pydata.org/pandas-docs/stable/user_guide/indexing.html#returning-a-view-versus-a-copy\n",
      "  adata2.obs['niche'][adata2.obs['coord']> 2100] = 'N5'\n",
      "/tmp/ipykernel_4091933/3933570242.py:18: SettingWithCopyWarning: \n",
      "A value is trying to be set on a copy of a slice from a DataFrame\n",
      "\n",
      "See the caveats in the documentation: https://pandas.pydata.org/pandas-docs/stable/user_guide/indexing.html#returning-a-view-versus-a-copy\n",
      "  adata2.obs['niche'][adata2.obs['coord']> 3600] = 'N4'\n",
      "/tmp/ipykernel_4091933/3933570242.py:22: SettingWithCopyWarning: \n",
      "A value is trying to be set on a copy of a slice from a DataFrame\n",
      "\n",
      "See the caveats in the documentation: https://pandas.pydata.org/pandas-docs/stable/user_guide/indexing.html#returning-a-view-versus-a-copy\n",
      "  adata3.obs['niche'][adata3.obs['coord']> 2000] = 'N5'\n",
      "/tmp/ipykernel_4091933/3933570242.py:23: SettingWithCopyWarning: \n",
      "A value is trying to be set on a copy of a slice from a DataFrame\n",
      "\n",
      "See the caveats in the documentation: https://pandas.pydata.org/pandas-docs/stable/user_guide/indexing.html#returning-a-view-versus-a-copy\n",
      "  adata3.obs['niche'][adata3.obs['coord']> 3900] = 'N4'\n",
      "/tmp/ipykernel_4091933/3933570242.py:24: SettingWithCopyWarning: \n",
      "A value is trying to be set on a copy of a slice from a DataFrame\n",
      "\n",
      "See the caveats in the documentation: https://pandas.pydata.org/pandas-docs/stable/user_guide/indexing.html#returning-a-view-versus-a-copy\n",
      "  adata3.obs['niche'][adata3.obs['coord']> 4350] = 'N3'\n",
      "/tmp/ipykernel_4091933/3933570242.py:25: SettingWithCopyWarning: \n",
      "A value is trying to be set on a copy of a slice from a DataFrame\n",
      "\n",
      "See the caveats in the documentation: https://pandas.pydata.org/pandas-docs/stable/user_guide/indexing.html#returning-a-view-versus-a-copy\n",
      "  adata3.obs['niche'][adata3.obs['coord']> 5600] = 'N2'\n",
      "/tmp/ipykernel_4091933/3933570242.py:26: SettingWithCopyWarning: \n",
      "A value is trying to be set on a copy of a slice from a DataFrame\n",
      "\n",
      "See the caveats in the documentation: https://pandas.pydata.org/pandas-docs/stable/user_guide/indexing.html#returning-a-view-versus-a-copy\n",
      "  adata3.obs['niche'][adata3.obs['coord']> 6000] = 'N1'\n",
      "/usr/local/lib/python3.8/dist-packages/anndata/_core/anndata.py:1828: UserWarning: Observation names are not unique. To make them unique, call `.obs_names_make_unique`.\n",
      "  utils.warn_names_duplicates(\"obs\")\n"
     ]
    },
    {
     "data": {
      "text/plain": [
       "AnnData object with n_obs × n_vars = 11059 × 4000\n",
       "    obs: 'name', 'global.x', 'global.y', 'adjusted.x', 'adjusted.y', 'fov.x', 'fov.y', 'cluster_L1', 'cluster_L2', 'cluster_L3', 'batch', 'coord', 'niche'\n",
       "    obsm: 'spatial'"
      ]
     },
     "execution_count": 2,
     "metadata": {},
     "output_type": "execute_result"
    }
   ],
   "source": [
    "adata1 = sc.read_h5ad('datasets/merfish/H18.06.006.MTG.4000.expand.rep1.h5ad')\n",
    "adata2 = sc.read_h5ad('datasets/merfish/H18.06.006.MTG.4000.expand.rep2.h5ad')\n",
    "adata3 = sc.read_h5ad('datasets/merfish/H18.06.006.MTG.4000.expand.rep3.h5ad')\n",
    "adata1.obs['batch'] = 'H18.06.006.MTG.4000.rep1'\n",
    "adata2.obs['batch'] = 'H18.06.006.MTG.4000.rep2'\n",
    "adata3.obs['batch'] = 'H18.06.006.MTG.4000.rep3'\n",
    "\n",
    "adata1.obs['coord'] = adata1.obsm['spatial'][:,1]\n",
    "adata1.obs['niche'] = 'N1'\n",
    "adata1.obs['niche'][adata1.obs['coord']> -1500] = 'N2'\n",
    "adata1.obs['niche'][adata1.obs['coord']> -1000] = 'N3'\n",
    "adata1.obs['niche'][adata1.obs['coord']> -200] = 'N4'\n",
    "adata1.obs['niche'][adata1.obs['coord']> 350] = 'N5'\n",
    "\n",
    "adata2.obs['coord'] = np.sqrt((adata2.obsm['spatial'][:,0]+3000) ** 2 + (adata2.obsm['spatial'][:,1]-400) ** 2)\n",
    "adata2.obs['niche'] = 'N6'\n",
    "adata2.obs['niche'][adata2.obs['coord']> 2100] = 'N5'\n",
    "adata2.obs['niche'][adata2.obs['coord']> 3600] = 'N4'\n",
    "\n",
    "adata3.obs['coord'] = np.sqrt((adata3.obsm['spatial'][:,0]-3000) ** 2 + (adata3.obsm['spatial'][:,1]-1300) ** 2)\n",
    "adata3.obs['niche'] = 'N6'\n",
    "adata3.obs['niche'][adata3.obs['coord']> 2000] = 'N5'\n",
    "adata3.obs['niche'][adata3.obs['coord']> 3900] = 'N4'\n",
    "adata3.obs['niche'][adata3.obs['coord']> 4350] = 'N3'\n",
    "adata3.obs['niche'][adata3.obs['coord']> 5600] = 'N2'\n",
    "adata3.obs['niche'][adata3.obs['coord']> 6000] = 'N1'\n",
    "\n",
    "adata_mtg = sc.concat([adata1,adata2,adata3])\n",
    "adata_mtg.obs_names_make_unique()\n",
    "adata_mtg"
   ]
  },
  {
   "cell_type": "code",
   "execution_count": 3,
   "id": "e3f78482",
   "metadata": {},
   "outputs": [
    {
     "name": "stderr",
     "output_type": "stream",
     "text": [
      "Global seed set to 0\n"
     ]
    }
   ],
   "source": [
    "# graphonly models\n",
    "\n",
    "from simvi.model import SimVIGraphOnly"
   ]
  },
  {
   "cell_type": "code",
   "execution_count": 28,
   "id": "c3c8606f",
   "metadata": {},
   "outputs": [
    {
     "name": "stderr",
     "output_type": "stream",
     "text": [
      "Global seed set to 0\n",
      "Epoch 100/100: 100%|████████████████████████████████████████████████████████████████████████████████████████████████████████████████████████████████████████████████████████████████████████████████| 100/100 [00:35<00:00,  2.82it/s, train_loss=1.47e+3, val_loss=1541.2582]\n",
      "Global seed set to 1\n",
      "Epoch 100/100: 100%|████████████████████████████████████████████████████████████████████████████████████████████████████████████████████████████████████████████████████████████████████████████████| 100/100 [00:34<00:00,  2.92it/s, train_loss=1.47e+3, val_loss=1538.1469]\n",
      "Global seed set to 2\n",
      "Epoch 100/100: 100%|████████████████████████████████████████████████████████████████████████████████████████████████████████████████████████████████████████████████████████████████████████████████| 100/100 [00:34<00:00,  2.86it/s, train_loss=1.47e+3, val_loss=1546.6969]\n",
      "Global seed set to 3\n",
      "Epoch 100/100: 100%|████████████████████████████████████████████████████████████████████████████████████████████████████████████████████████████████████████████████████████████████████████████████| 100/100 [00:34<00:00,  2.89it/s, train_loss=1.47e+3, val_loss=1532.0895]\n",
      "Global seed set to 4\n",
      "Epoch 100/100: 100%|█████████████████████████████████████████████████████████████████████████████████████████████████████████████████████████████████████████████████████████████████████████████████| 100/100 [00:35<00:00,  2.79it/s, train_loss=1.47e+3, val_loss=1536.551]\n",
      "Global seed set to 5\n",
      "Epoch 100/100: 100%|████████████████████████████████████████████████████████████████████████████████████████████████████████████████████████████████████████████████████████████████████████████████| 100/100 [00:35<00:00,  2.80it/s, train_loss=1.47e+3, val_loss=1537.2253]\n",
      "Global seed set to 6\n",
      "Epoch 100/100: 100%|████████████████████████████████████████████████████████████████████████████████████████████████████████████████████████████████████████████████████████████████████████████████| 100/100 [00:34<00:00,  2.87it/s, train_loss=1.47e+3, val_loss=1534.1766]\n",
      "Global seed set to 7\n",
      "Epoch 100/100: 100%|████████████████████████████████████████████████████████████████████████████████████████████████████████████████████████████████████████████████████████████████████████████████| 100/100 [00:34<00:00,  2.87it/s, train_loss=1.47e+3, val_loss=1534.2383]\n",
      "Global seed set to 8\n",
      "Epoch 100/100: 100%|████████████████████████████████████████████████████████████████████████████████████████████████████████████████████████████████████████████████████████████████████████████████| 100/100 [00:34<00:00,  2.87it/s, train_loss=1.47e+3, val_loss=1534.0958]\n",
      "Global seed set to 9\n",
      "Epoch 100/100: 100%|████████████████████████████████████████████████████████████████████████████████████████████████████████████████████████████████████████████████████████████████████████████████| 100/100 [00:34<00:00,  2.94it/s, train_loss=1.47e+3, val_loss=1535.0927]\n"
     ]
    }
   ],
   "source": [
    "SimVIGraphOnly.setup_anndata(adata_mtg,batch_key='batch')\n",
    "edge_index = SimVIGraphOnly.extract_edge_index(adata_mtg,n_neighbors=10,batch_key='batch')\n",
    "\n",
    "## likelihood\n",
    "\n",
    "from pytorch_lightning.utilities.seed import seed_everything\n",
    "for i in range(10):\n",
    "    seed_everything(i)\n",
    "    model = SimVIGraphOnly(adata_mtg,kl_weight=1,kl_gatweight=1,lam_mi=500,permutation_rate=0,n_spatial=20)\n",
    "    train_loss, val_loss = model.train(edge_index,max_epochs=100,batch_size=500,use_gpu=True)\n",
    "    adata_mtg.obsm['simvigo_s_'+str(i)] = model.get_latent_representation(edge_index,representation_kind='interaction',give_mean=True)"
   ]
  },
  {
   "cell_type": "code",
   "execution_count": 29,
   "id": "480fee58",
   "metadata": {},
   "outputs": [
    {
     "name": "stderr",
     "output_type": "stream",
     "text": [
      "Global seed set to 0\n",
      "Epoch 100/100: 100%|█████████████████████████████████████████████████████████████████████████████████████████████████████████████████████████████████████████████████████████████████████████████████| 100/100 [00:35<00:00,  2.86it/s, train_loss=1.44e+3, val_loss=1452.544]\n",
      "Global seed set to 1\n",
      "Epoch 100/100: 100%|████████████████████████████████████████████████████████████████████████████████████████████████████████████████████████████████████████████████████████████████████████████████| 100/100 [00:35<00:00,  2.81it/s, train_loss=1.44e+3, val_loss=1447.3746]\n",
      "Global seed set to 2\n",
      "Epoch 100/100: 100%|████████████████████████████████████████████████████████████████████████████████████████████████████████████████████████████████████████████████████████████████████████████████| 100/100 [00:34<00:00,  2.87it/s, train_loss=1.44e+3, val_loss=1448.0414]\n",
      "Global seed set to 3\n",
      "Epoch 100/100: 100%|█████████████████████████████████████████████████████████████████████████████████████████████████████████████████████████████████████████████████████████████████████████████████| 100/100 [00:35<00:00,  2.85it/s, train_loss=1.44e+3, val_loss=1448.602]\n",
      "Global seed set to 4\n",
      "Epoch 100/100: 100%|████████████████████████████████████████████████████████████████████████████████████████████████████████████████████████████████████████████████████████████████████████████████| 100/100 [00:35<00:00,  2.84it/s, train_loss=1.44e+3, val_loss=1448.0687]\n",
      "Global seed set to 5\n",
      "Epoch 100/100: 100%|████████████████████████████████████████████████████████████████████████████████████████████████████████████████████████████████████████████████████████████████████████████████| 100/100 [00:35<00:00,  2.80it/s, train_loss=1.44e+3, val_loss=1450.5592]\n",
      "Global seed set to 6\n",
      "Epoch 100/100: 100%|████████████████████████████████████████████████████████████████████████████████████████████████████████████████████████████████████████████████████████████████████████████████| 100/100 [00:35<00:00,  2.84it/s, train_loss=1.44e+3, val_loss=1450.5536]\n",
      "Global seed set to 7\n",
      "Epoch 100/100: 100%|████████████████████████████████████████████████████████████████████████████████████████████████████████████████████████████████████████████████████████████████████████████████| 100/100 [00:34<00:00,  2.86it/s, train_loss=1.44e+3, val_loss=1449.5577]\n",
      "Global seed set to 8\n",
      "Epoch 100/100: 100%|████████████████████████████████████████████████████████████████████████████████████████████████████████████████████████████████████████████████████████████████████████████████| 100/100 [00:35<00:00,  2.83it/s, train_loss=1.44e+3, val_loss=1448.8019]\n",
      "Global seed set to 9\n",
      "Epoch 100/100: 100%|████████████████████████████████████████████████████████████████████████████████████████████████████████████████████████████████████████████████████████████████████████████████| 100/100 [00:35<00:00,  2.80it/s, train_loss=1.44e+3, val_loss=1450.8568]\n"
     ]
    }
   ],
   "source": [
    "adata_mtg.obs['batch_ct'] = adata_mtg.obs['batch'].astype(str) + adata_mtg.obs['cluster_L1'].astype(str)\n",
    "\n",
    "SimVIGraphOnly.setup_anndata(adata_mtg,batch_key='batch_ct')\n",
    "edge_index = SimVIGraphOnly.extract_edge_index(adata_mtg,n_neighbors=10,batch_key='batch')\n",
    "\n",
    "from pytorch_lightning.utilities.seed import seed_everything\n",
    "for i in range(10):\n",
    "    seed_everything(i)\n",
    "    model = SimVIGraphOnly(adata_mtg,kl_weight=1,kl_gatweight=1,lam_mi=500,permutation_rate=0,n_spatial=20)\n",
    "    train_loss, val_loss = model.train(edge_index,max_epochs=100,batch_size=500,use_gpu=True)\n",
    "    adata_mtg.obsm['simvigoct_s_'+str(i)] = model.get_latent_representation(edge_index,representation_kind='interaction',give_mean=True)"
   ]
  },
  {
   "cell_type": "code",
   "execution_count": 30,
   "id": "c6e7bfa9",
   "metadata": {},
   "outputs": [
    {
     "name": "stderr",
     "output_type": "stream",
     "text": [
      "/usr/local/lib/python3.8/dist-packages/scvi/data/_utils.py:156: UserWarning: Category 39 in adata.obs['_scvi_batch'] has fewer than 3 cells. Models may not train properly.\n",
      "  warnings.warn(\n",
      "Global seed set to 0\n",
      "Epoch 100/100: 100%|█████████████████████████████████████████████████████████████████████████████████████████████████████████████████████████████████████████████████████████████████████████████████| 100/100 [00:34<00:00,  2.87it/s, train_loss=1.43e+3, val_loss=1440.771]\n",
      "Global seed set to 1\n",
      "Epoch 100/100: 100%|█████████████████████████████████████████████████████████████████████████████████████████████████████████████████████████████████████████████████████████████████████████████████| 100/100 [00:35<00:00,  2.85it/s, train_loss=1.43e+3, val_loss=1440.337]\n",
      "Global seed set to 2\n",
      "Epoch 100/100: 100%|████████████████████████████████████████████████████████████████████████████████████████████████████████████████████████████████████████████████████████████████████████████████| 100/100 [00:35<00:00,  2.86it/s, train_loss=1.43e+3, val_loss=1439.9406]\n",
      "Global seed set to 3\n",
      "Epoch 100/100: 100%|████████████████████████████████████████████████████████████████████████████████████████████████████████████████████████████████████████████████████████████████████████████████| 100/100 [00:34<00:00,  2.90it/s, train_loss=1.43e+3, val_loss=1439.2633]\n",
      "Global seed set to 4\n",
      "Epoch 100/100: 100%|████████████████████████████████████████████████████████████████████████████████████████████████████████████████████████████████████████████████████████████████████████████████| 100/100 [00:34<00:00,  2.92it/s, train_loss=1.43e+3, val_loss=1441.4822]\n",
      "Global seed set to 5\n",
      "Epoch 100/100: 100%|████████████████████████████████████████████████████████████████████████████████████████████████████████████████████████████████████████████████████████████████████████████████| 100/100 [00:35<00:00,  2.85it/s, train_loss=1.43e+3, val_loss=1439.5588]\n",
      "Global seed set to 6\n",
      "Epoch 100/100: 100%|█████████████████████████████████████████████████████████████████████████████████████████████████████████████████████████████████████████████████████████████████████████████████| 100/100 [00:35<00:00,  2.83it/s, train_loss=1.43e+3, val_loss=1443.534]\n",
      "Global seed set to 7\n",
      "Epoch 100/100: 100%|████████████████████████████████████████████████████████████████████████████████████████████████████████████████████████████████████████████████████████████████████████████████| 100/100 [00:34<00:00,  2.87it/s, train_loss=1.43e+3, val_loss=1443.0734]\n",
      "Global seed set to 8\n",
      "Epoch 100/100: 100%|████████████████████████████████████████████████████████████████████████████████████████████████████████████████████████████████████████████████████████████████████████████████| 100/100 [00:34<00:00,  2.89it/s, train_loss=1.43e+3, val_loss=1438.4393]\n",
      "Global seed set to 9\n",
      "Epoch 100/100: 100%|████████████████████████████████████████████████████████████████████████████████████████████████████████████████████████████████████████████████████████████████████████████████| 100/100 [00:33<00:00,  2.94it/s, train_loss=1.43e+3, val_loss=1442.0745]\n"
     ]
    }
   ],
   "source": [
    "adata_mtg.obs['batch_ct2'] = adata_mtg.obs['batch'].astype(str) + adata_mtg.obs['cluster_L2'].astype(str)\n",
    "\n",
    "SimVIGraphOnly.setup_anndata(adata_mtg,batch_key='batch_ct2')\n",
    "edge_index = SimVIGraphOnly.extract_edge_index(adata_mtg,n_neighbors=10,batch_key='batch')\n",
    "\n",
    "from pytorch_lightning.utilities.seed import seed_everything\n",
    "for i in range(10):\n",
    "    seed_everything(i)\n",
    "    model = SimVIGraphOnly(adata_mtg,kl_weight=1,kl_gatweight=1,lam_mi=500,permutation_rate=0,n_spatial=20)\n",
    "    train_loss, val_loss = model.train(edge_index,max_epochs=100,batch_size=500,use_gpu=True)\n",
    "    adata_mtg.obsm['simvigoct2_s_'+str(i)] = model.get_latent_representation(edge_index,representation_kind='interaction',give_mean=True)"
   ]
  },
  {
   "cell_type": "code",
   "execution_count": 14,
   "id": "a32e74ad",
   "metadata": {},
   "outputs": [
    {
     "name": "stderr",
     "output_type": "stream",
     "text": [
      "Global seed set to 0\n",
      "GPU available: True, used: True\n",
      "TPU available: False, using: 0 TPU cores\n",
      "IPU available: False, using: 0 IPUs\n",
      "LOCAL_RANK: 0 - CUDA_VISIBLE_DEVICES: [0,1,2,3,4,5,6,7]\n"
     ]
    },
    {
     "name": "stdout",
     "output_type": "stream",
     "text": [
      "Epoch 100/100: 100%|████████████████████████████████████████████████████████████████████████████████████████████████████████████████████████████████████████████████████████████████████████████████████████████████| 100/100 [00:31<00:00,  3.15it/s, loss=1.42e+03, v_num=1]"
     ]
    },
    {
     "name": "stderr",
     "output_type": "stream",
     "text": [
      "Global seed set to 1\n"
     ]
    },
    {
     "name": "stdout",
     "output_type": "stream",
     "text": [
      "\n"
     ]
    },
    {
     "name": "stderr",
     "output_type": "stream",
     "text": [
      "GPU available: True, used: True\n",
      "TPU available: False, using: 0 TPU cores\n",
      "IPU available: False, using: 0 IPUs\n",
      "LOCAL_RANK: 0 - CUDA_VISIBLE_DEVICES: [0,1,2,3,4,5,6,7]\n"
     ]
    },
    {
     "name": "stdout",
     "output_type": "stream",
     "text": [
      "Epoch 100/100: 100%|████████████████████████████████████████████████████████████████████████████████████████████████████████████████████████████████████████████████████████████████████████████████████████████████| 100/100 [00:31<00:00,  3.18it/s, loss=1.42e+03, v_num=1]"
     ]
    },
    {
     "name": "stderr",
     "output_type": "stream",
     "text": [
      "Global seed set to 2\n"
     ]
    },
    {
     "name": "stdout",
     "output_type": "stream",
     "text": [
      "\n"
     ]
    },
    {
     "name": "stderr",
     "output_type": "stream",
     "text": [
      "GPU available: True, used: True\n",
      "TPU available: False, using: 0 TPU cores\n",
      "IPU available: False, using: 0 IPUs\n",
      "LOCAL_RANK: 0 - CUDA_VISIBLE_DEVICES: [0,1,2,3,4,5,6,7]\n"
     ]
    },
    {
     "name": "stdout",
     "output_type": "stream",
     "text": [
      "Epoch 100/100: 100%|████████████████████████████████████████████████████████████████████████████████████████████████████████████████████████████████████████████████████████████████████████████████████████████████| 100/100 [00:31<00:00,  3.13it/s, loss=1.42e+03, v_num=1]"
     ]
    },
    {
     "name": "stderr",
     "output_type": "stream",
     "text": [
      "Global seed set to 3\n"
     ]
    },
    {
     "name": "stdout",
     "output_type": "stream",
     "text": [
      "\n"
     ]
    },
    {
     "name": "stderr",
     "output_type": "stream",
     "text": [
      "GPU available: True, used: True\n",
      "TPU available: False, using: 0 TPU cores\n",
      "IPU available: False, using: 0 IPUs\n",
      "LOCAL_RANK: 0 - CUDA_VISIBLE_DEVICES: [0,1,2,3,4,5,6,7]\n"
     ]
    },
    {
     "name": "stdout",
     "output_type": "stream",
     "text": [
      "Epoch 100/100: 100%|████████████████████████████████████████████████████████████████████████████████████████████████████████████████████████████████████████████████████████████████████████████████████████████████| 100/100 [00:32<00:00,  3.06it/s, loss=1.42e+03, v_num=1]"
     ]
    },
    {
     "name": "stderr",
     "output_type": "stream",
     "text": [
      "Global seed set to 4\n"
     ]
    },
    {
     "name": "stdout",
     "output_type": "stream",
     "text": [
      "\n"
     ]
    },
    {
     "name": "stderr",
     "output_type": "stream",
     "text": [
      "GPU available: True, used: True\n",
      "TPU available: False, using: 0 TPU cores\n",
      "IPU available: False, using: 0 IPUs\n",
      "LOCAL_RANK: 0 - CUDA_VISIBLE_DEVICES: [0,1,2,3,4,5,6,7]\n"
     ]
    },
    {
     "name": "stdout",
     "output_type": "stream",
     "text": [
      "Epoch 100/100: 100%|████████████████████████████████████████████████████████████████████████████████████████████████████████████████████████████████████████████████████████████████████████████████████████████████| 100/100 [00:31<00:00,  3.18it/s, loss=1.42e+03, v_num=1]"
     ]
    },
    {
     "name": "stderr",
     "output_type": "stream",
     "text": [
      "Global seed set to 5\n"
     ]
    },
    {
     "name": "stdout",
     "output_type": "stream",
     "text": [
      "\n"
     ]
    },
    {
     "name": "stderr",
     "output_type": "stream",
     "text": [
      "GPU available: True, used: True\n",
      "TPU available: False, using: 0 TPU cores\n",
      "IPU available: False, using: 0 IPUs\n",
      "LOCAL_RANK: 0 - CUDA_VISIBLE_DEVICES: [0,1,2,3,4,5,6,7]\n"
     ]
    },
    {
     "name": "stdout",
     "output_type": "stream",
     "text": [
      "Epoch 100/100: 100%|████████████████████████████████████████████████████████████████████████████████████████████████████████████████████████████████████████████████████████████████████████████████████████████████| 100/100 [00:31<00:00,  3.17it/s, loss=1.42e+03, v_num=1]"
     ]
    },
    {
     "name": "stderr",
     "output_type": "stream",
     "text": [
      "Global seed set to 6\n"
     ]
    },
    {
     "name": "stdout",
     "output_type": "stream",
     "text": [
      "\n"
     ]
    },
    {
     "name": "stderr",
     "output_type": "stream",
     "text": [
      "GPU available: True, used: True\n",
      "TPU available: False, using: 0 TPU cores\n",
      "IPU available: False, using: 0 IPUs\n",
      "LOCAL_RANK: 0 - CUDA_VISIBLE_DEVICES: [0,1,2,3,4,5,6,7]\n"
     ]
    },
    {
     "name": "stdout",
     "output_type": "stream",
     "text": [
      "Epoch 100/100: 100%|████████████████████████████████████████████████████████████████████████████████████████████████████████████████████████████████████████████████████████████████████████████████████████████████| 100/100 [00:30<00:00,  3.23it/s, loss=1.42e+03, v_num=1]"
     ]
    },
    {
     "name": "stderr",
     "output_type": "stream",
     "text": [
      "Global seed set to 7\n",
      "GPU available: True, used: True\n",
      "TPU available: False, using: 0 TPU cores\n",
      "IPU available: False, using: 0 IPUs\n"
     ]
    },
    {
     "name": "stdout",
     "output_type": "stream",
     "text": [
      "\n"
     ]
    },
    {
     "name": "stderr",
     "output_type": "stream",
     "text": [
      "LOCAL_RANK: 0 - CUDA_VISIBLE_DEVICES: [0,1,2,3,4,5,6,7]\n"
     ]
    },
    {
     "name": "stdout",
     "output_type": "stream",
     "text": [
      "Epoch 100/100: 100%|████████████████████████████████████████████████████████████████████████████████████████████████████████████████████████████████████████████████████████████████████████████████████████████████| 100/100 [00:30<00:00,  3.26it/s, loss=1.42e+03, v_num=1]"
     ]
    },
    {
     "name": "stderr",
     "output_type": "stream",
     "text": [
      "Global seed set to 8\n"
     ]
    },
    {
     "name": "stdout",
     "output_type": "stream",
     "text": [
      "\n"
     ]
    },
    {
     "name": "stderr",
     "output_type": "stream",
     "text": [
      "GPU available: True, used: True\n",
      "TPU available: False, using: 0 TPU cores\n",
      "IPU available: False, using: 0 IPUs\n",
      "LOCAL_RANK: 0 - CUDA_VISIBLE_DEVICES: [0,1,2,3,4,5,6,7]\n"
     ]
    },
    {
     "name": "stdout",
     "output_type": "stream",
     "text": [
      "Epoch 100/100: 100%|████████████████████████████████████████████████████████████████████████████████████████████████████████████████████████████████████████████████████████████████████████████████████████████████| 100/100 [00:31<00:00,  3.14it/s, loss=1.42e+03, v_num=1]"
     ]
    },
    {
     "name": "stderr",
     "output_type": "stream",
     "text": [
      "Global seed set to 9\n"
     ]
    },
    {
     "name": "stdout",
     "output_type": "stream",
     "text": [
      "\n"
     ]
    },
    {
     "name": "stderr",
     "output_type": "stream",
     "text": [
      "GPU available: True, used: True\n",
      "TPU available: False, using: 0 TPU cores\n",
      "IPU available: False, using: 0 IPUs\n",
      "LOCAL_RANK: 0 - CUDA_VISIBLE_DEVICES: [0,1,2,3,4,5,6,7]\n"
     ]
    },
    {
     "name": "stdout",
     "output_type": "stream",
     "text": [
      "Epoch 100/100: 100%|████████████████████████████████████████████████████████████████████████████████████████████████████████████████████████████████████████████████████████████████████████████████████████████████| 100/100 [00:31<00:00,  3.17it/s, loss=1.42e+03, v_num=1]\n"
     ]
    }
   ],
   "source": [
    "import scvi\n",
    "scvi.model.SCVI.setup_anndata(adata_mtg,batch_key='batch')\n",
    "for i in range(10):\n",
    "    seed_everything(i)\n",
    "    vae = scvi.model.SCVI(adata_mtg, n_layers=2, n_latent=20)\n",
    "    vae.train(max_epochs=100,use_gpu=True,batch_size=500)\n",
    "    adata_mtg.obsm['scvi_'+str(i)] = vae.get_latent_representation(adata_mtg)"
   ]
  },
  {
   "cell_type": "code",
   "execution_count": 3,
   "id": "e2e16340",
   "metadata": {},
   "outputs": [
    {
     "name": "stderr",
     "output_type": "stream",
     "text": [
      "Global seed set to 0\n",
      "Epoch 100/100: 100%|████████████████████████████████████████████████████████████████████████████████████████████████████████████████████████████████████████████████████████████████████████████████| 100/100 [03:44<00:00,  2.24s/it, train_loss=1.43e+3, val_loss=1435.4552]\n",
      "Global seed set to 1\n",
      "Epoch 100/100: 100%|████████████████████████████████████████████████████████████████████████████████████████████████████████████████████████████████████████████████████████████████████████████████| 100/100 [03:49<00:00,  2.29s/it, train_loss=1.43e+3, val_loss=1436.5302]\n",
      "Global seed set to 2\n",
      "Epoch 100/100: 100%|████████████████████████████████████████████████████████████████████████████████████████████████████████████████████████████████████████████████████████████████████████████████| 100/100 [03:48<00:00,  2.29s/it, train_loss=1.43e+3, val_loss=1433.8075]\n",
      "Global seed set to 3\n",
      "Epoch 100/100: 100%|████████████████████████████████████████████████████████████████████████████████████████████████████████████████████████████████████████████████████████████████████████████████| 100/100 [03:46<00:00,  2.26s/it, train_loss=1.43e+3, val_loss=1433.8073]\n",
      "Global seed set to 4\n",
      "Epoch 100/100: 100%|████████████████████████████████████████████████████████████████████████████████████████████████████████████████████████████████████████████████████████████████████████████████| 100/100 [03:47<00:00,  2.27s/it, train_loss=1.43e+3, val_loss=1435.0817]\n",
      "Global seed set to 5\n",
      "Epoch 100/100: 100%|████████████████████████████████████████████████████████████████████████████████████████████████████████████████████████████████████████████████████████████████████████████████| 100/100 [03:47<00:00,  2.28s/it, train_loss=1.43e+3, val_loss=1434.8357]\n",
      "Global seed set to 6\n",
      "Epoch 100/100: 100%|████████████████████████████████████████████████████████████████████████████████████████████████████████████████████████████████████████████████████████████████████████████████| 100/100 [03:47<00:00,  2.28s/it, train_loss=1.44e+3, val_loss=1437.6768]\n",
      "Global seed set to 7\n",
      "Epoch 100/100: 100%|████████████████████████████████████████████████████████████████████████████████████████████████████████████████████████████████████████████████████████████████████████████████| 100/100 [04:09<00:00,  2.50s/it, train_loss=1.43e+3, val_loss=1433.7661]\n",
      "Global seed set to 8\n",
      "Epoch 100/100: 100%|████████████████████████████████████████████████████████████████████████████████████████████████████████████████████████████████████████████████████████████████████████████████| 100/100 [04:11<00:00,  2.52s/it, train_loss=1.43e+3, val_loss=1434.6515]\n",
      "Global seed set to 9\n",
      "Epoch 100/100: 100%|████████████████████████████████████████████████████████████████████████████████████████████████████████████████████████████████████████████████████████████████████████████████| 100/100 [04:14<00:00,  2.55s/it, train_loss=1.44e+3, val_loss=1436.4042]\n"
     ]
    }
   ],
   "source": [
    "from simvi.model import SimVI\n",
    "SimVI.setup_anndata(adata_mtg,batch_key='batch')\n",
    "edge_index = SimVI.extract_edge_index(adata_mtg,n_neighbors=10,batch_key='batch')\n",
    "from pytorch_lightning.utilities.seed import seed_everything\n",
    "for i in range(10):\n",
    "    seed_everything(i)\n",
    "    model = SimVI(adata_mtg,kl_weight=1,kl_gatweight=0.01,lam_mi=1000,permutation_rate=0.5,n_spatial=20,n_intrinsic=20)\n",
    "    train_loss, val_loss = model.train(edge_index,max_epochs=100,batch_size=500,use_gpu=True,mae_epochs=25)\n",
    "    adata_mtg.obsm['simvikl_z'+str(i)] = model.get_latent_representation(edge_index,representation_kind='intrinsic',give_mean=True)\n",
    "    adata_mtg.obsm['simvikl_lz'+str(i)] = model.get_latent_representation(edge_index,representation_kind='output',give_mean=True)\n",
    "    adata_mtg.obsm['simvikl_s'+str(i)] = model.get_latent_representation(edge_index,representation_kind='interaction',give_mean=True)"
   ]
  },
  {
   "cell_type": "code",
   "execution_count": 7,
   "id": "3a65edee",
   "metadata": {},
   "outputs": [],
   "source": [
    "adata_mtg.write('mtg_baselines2.h5ad')"
   ]
  }
 ],
 "metadata": {
  "kernelspec": {
   "display_name": "Python 3 (ipykernel)",
   "language": "python",
   "name": "python3"
  },
  "language_info": {
   "codemirror_mode": {
    "name": "ipython",
    "version": 3
   },
   "file_extension": ".py",
   "mimetype": "text/x-python",
   "name": "python",
   "nbconvert_exporter": "python",
   "pygments_lexer": "ipython3",
   "version": "3.9.13"
  }
 },
 "nbformat": 4,
 "nbformat_minor": 5
}
