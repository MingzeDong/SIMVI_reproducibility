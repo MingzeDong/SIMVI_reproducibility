{
 "cells": [
  {
   "cell_type": "code",
   "execution_count": 1,
   "id": "4f46eb7f",
   "metadata": {},
   "outputs": [],
   "source": [
    "import scanpy as sc\n",
    "import squidpy as sq\n",
    "\n",
    "import numpy as np\n",
    "import pandas as pd"
   ]
  },
  {
   "cell_type": "code",
   "execution_count": 2,
   "id": "d08fb75a",
   "metadata": {},
   "outputs": [],
   "source": [
    "adata = sc.read_h5ad('datasets/slidetag_LN/slidetag_LN.h5ad')"
   ]
  },
  {
   "cell_type": "code",
   "execution_count": 3,
   "id": "0b41741a",
   "metadata": {},
   "outputs": [
    {
     "name": "stderr",
     "output_type": "stream",
     "text": [
      "Global seed set to 0\n",
      "No GPU/TPU found, falling back to CPU. (Set TF_CPP_MIN_LOG_LEVEL=0 and rerun for more info.)\n"
     ]
    }
   ],
   "source": [
    "from simvi.model import SimVI\n",
    "SimVI.setup_anndata(adata)\n",
    "edge_index = SimVI.extract_edge_index(adata,n_neighbors=10)"
   ]
  },
  {
   "cell_type": "code",
   "execution_count": 5,
   "id": "73914dbb",
   "metadata": {},
   "outputs": [
    {
     "name": "stderr",
     "output_type": "stream",
     "text": [
      "Global seed set to 1\n",
      "Epoch 100/100: 100%|█████████████████████████████████████████████████████████████████████████████████████████████████████████████████████████████████████████████████████████████████| 100/100 [00:44<00:00,  2.24it/s, train_loss=1.09e+3, val_loss=1119.0975]\n",
      "Global seed set to 2\n",
      "Epoch 100/100: 100%|█████████████████████████████████████████████████████████████████████████████████████████████████████████████████████████████████████████████████████████████████| 100/100 [00:46<00:00,  2.14it/s, train_loss=1.09e+3, val_loss=1121.5317]\n",
      "Global seed set to 3\n",
      "Epoch 100/100: 100%|█████████████████████████████████████████████████████████████████████████████████████████████████████████████████████████████████████████████████████████████████| 100/100 [00:43<00:00,  2.30it/s, train_loss=1.08e+3, val_loss=1116.9712]\n",
      "Global seed set to 4\n",
      "Epoch 100/100: 100%|█████████████████████████████████████████████████████████████████████████████████████████████████████████████████████████████████████████████████████████████████| 100/100 [00:43<00:00,  2.32it/s, train_loss=1.08e+3, val_loss=1119.5688]\n",
      "Global seed set to 5\n",
      "Epoch 100/100: 100%|█████████████████████████████████████████████████████████████████████████████████████████████████████████████████████████████████████████████████████████████████| 100/100 [00:43<00:00,  2.30it/s, train_loss=1.08e+3, val_loss=1115.5144]\n",
      "Global seed set to 6\n",
      "Epoch 100/100: 100%|█████████████████████████████████████████████████████████████████████████████████████████████████████████████████████████████████████████████████████████████████| 100/100 [00:43<00:00,  2.32it/s, train_loss=1.08e+3, val_loss=1115.5846]\n",
      "Global seed set to 7\n",
      "Epoch 100/100: 100%|███████████████████████████████████████████████████████████████████████████████████████████████████████████████████████████████████████████████████████████████████| 100/100 [00:43<00:00,  2.31it/s, train_loss=1.1e+3, val_loss=1129.674]\n",
      "Global seed set to 8\n",
      "Epoch 100/100: 100%|█████████████████████████████████████████████████████████████████████████████████████████████████████████████████████████████████████████████████████████████████| 100/100 [00:42<00:00,  2.34it/s, train_loss=1.09e+3, val_loss=1123.4216]\n",
      "Global seed set to 9\n",
      "Epoch 100/100: 100%|██████████████████████████████████████████████████████████████████████████████████████████████████████████████████████████████████████████████████████████████████| 100/100 [00:43<00:00,  2.30it/s, train_loss=1.1e+3, val_loss=1126.7479]\n",
      "Global seed set to 10\n",
      "Epoch 100/100: 100%|█████████████████████████████████████████████████████████████████████████████████████████████████████████████████████████████████████████████████████████████████| 100/100 [00:43<00:00,  2.32it/s, train_loss=1.09e+3, val_loss=1118.4972]\n"
     ]
    }
   ],
   "source": [
    "from pytorch_lightning.utilities.seed import seed_everything\n",
    "for i in range(10):\n",
    "    seed_everything(i+1)\n",
    "    model = SimVI(adata,kl_weight=1,kl_gatweight=0.01,lam_mi=1000,permutation_rate=0.5,n_spatial=20,n_intrinsic=20)\n",
    "    train_loss, val_loss = model.train(edge_index,max_epochs=100,batch_size=1000,use_gpu=True,mae_epochs=25,device='cuda:2')\n",
    "    adata.obsm['simvi_z'+str(i)] = model.get_latent_representation(edge_index,representation_kind='intrinsic',give_mean=True)\n",
    "    adata.obsm['simvi_s'+str(i)] = model.get_latent_representation(edge_index,representation_kind='interaction',give_mean=True)\n",
    "    adata.obsm['simvi_'+str(i)] = np.hstack((adata.obsm['simvi_z'+str(i)],adata.obsm['simvi_s'+str(i)]))\n",
    "    np.save('Benchmarking_results/slidetag/'+'simvi_z'+str(i)+'.npy',adata.obsm['simvi_z'+str(i)])\n",
    "    np.save('Benchmarking_results/slidetag/'+'simvi_s'+str(i)+'.npy',adata.obsm['simvi_s'+str(i)])\n",
    "    np.save('Benchmarking_results/slidetag/'+'simvi_'+str(i)+'.npy',adata.obsm['simvi_'+str(i)])"
   ]
  },
  {
   "cell_type": "code",
   "execution_count": 6,
   "id": "57838865",
   "metadata": {},
   "outputs": [
    {
     "name": "stderr",
     "output_type": "stream",
     "text": [
      "Global seed set to 1\n",
      "Epoch 100/100: 100%|██████████████████████████████████████████████████████████████████████████████████████████████████████████████████████████████████████████████████████████████████| 100/100 [00:10<00:00,  9.69it/s, train_loss=1.09e+3, val_loss=1133.706]\n",
      "Global seed set to 2\n",
      "Epoch 100/100: 100%|█████████████████████████████████████████████████████████████████████████████████████████████████████████████████████████████████████████████████████████████████| 100/100 [00:10<00:00,  9.71it/s, train_loss=1.09e+3, val_loss=1131.5444]\n",
      "Global seed set to 3\n",
      "Epoch 100/100: 100%|█████████████████████████████████████████████████████████████████████████████████████████████████████████████████████████████████████████████████████████████████| 100/100 [00:09<00:00, 10.02it/s, train_loss=1.08e+3, val_loss=1130.9393]\n",
      "Global seed set to 4\n",
      "Epoch 100/100: 100%|██████████████████████████████████████████████████████████████████████████████████████████████████████████████████████████████████████████████████████████████████| 100/100 [00:09<00:00, 10.32it/s, train_loss=1.08e+3, val_loss=1133.835]\n",
      "Global seed set to 5\n",
      "Epoch 100/100: 100%|█████████████████████████████████████████████████████████████████████████████████████████████████████████████████████████████████████████████████████████████████| 100/100 [00:10<00:00,  9.69it/s, train_loss=1.08e+3, val_loss=1132.7258]\n",
      "Global seed set to 6\n",
      "Epoch 100/100: 100%|██████████████████████████████████████████████████████████████████████████████████████████████████████████████████████████████████████████████████████████████████| 100/100 [00:10<00:00,  9.52it/s, train_loss=1086.14, val_loss=1133.118]\n",
      "Global seed set to 7\n",
      "Epoch 100/100: 100%|█████████████████████████████████████████████████████████████████████████████████████████████████████████████████████████████████████████████████████████████████| 100/100 [00:10<00:00,  9.65it/s, train_loss=1.09e+3, val_loss=1140.2738]\n",
      "Global seed set to 8\n",
      "Epoch 100/100: 100%|█████████████████████████████████████████████████████████████████████████████████████████████████████████████████████████████████████████████████████████████████| 100/100 [00:10<00:00,  9.56it/s, train_loss=1.08e+3, val_loss=1136.9159]\n",
      "Global seed set to 9\n",
      "Epoch 100/100: 100%|█████████████████████████████████████████████████████████████████████████████████████████████████████████████████████████████████████████████████████████████████| 100/100 [00:10<00:00,  9.71it/s, train_loss=1.09e+3, val_loss=1137.0656]\n",
      "Global seed set to 10\n",
      "Epoch 100/100: 100%|█████████████████████████████████████████████████████████████████████████████████████████████████████████████████████████████████████████████████████████████████| 100/100 [00:10<00:00,  9.49it/s, train_loss=1.09e+3, val_loss=1133.2246]\n"
     ]
    }
   ],
   "source": [
    "from simvi.model import SimVIGraphOnly\n",
    "SimVIGraphOnly.setup_anndata(adata,batch_key='cell_type')\n",
    "edge_index = SimVIGraphOnly.extract_edge_index(adata,n_neighbors=10)\n",
    "\n",
    "## likelihood\n",
    "\n",
    "from pytorch_lightning.utilities.seed import seed_everything\n",
    "for i in range(10):\n",
    "    seed_everything(i+1)\n",
    "    model = SimVIGraphOnly(adata,kl_weight=1,kl_gatweight=1,lam_mi=1000,permutation_rate=0,n_spatial=20)\n",
    "    train_loss, val_loss = model.train(edge_index,max_epochs=100,batch_size=1000,use_gpu=True)\n",
    "    adata.obsm['simvigoct_s'+str(i)] = model.get_latent_representation(edge_index,representation_kind='interaction',give_mean=True)\n",
    "    np.save('Benchmarking_results/slidetag/'+'simvigoct_s'+str(i)+'.npy',adata.obsm['simvigoct_s'+str(i)])"
   ]
  },
  {
   "cell_type": "code",
   "execution_count": 7,
   "id": "b1ae49c8",
   "metadata": {},
   "outputs": [
    {
     "name": "stderr",
     "output_type": "stream",
     "text": [
      "Global seed set to 1\n",
      "Epoch 100/100: 100%|█████████████████████████████████████████████████████████████████████████████████████████████████████████████████████████████████████████████████████████████████| 100/100 [00:10<00:00,  9.94it/s, train_loss=1.12e+3, val_loss=1208.0618]\n",
      "Global seed set to 2\n",
      "Epoch 100/100: 100%|█████████████████████████████████████████████████████████████████████████████████████████████████████████████████████████████████████████████████████████████████| 100/100 [00:10<00:00,  9.87it/s, train_loss=1.12e+3, val_loss=1221.0164]\n",
      "Global seed set to 3\n",
      "Epoch 100/100: 100%|█████████████████████████████████████████████████████████████████████████████████████████████████████████████████████████████████████████████████████████████████| 100/100 [00:10<00:00,  9.66it/s, train_loss=1.13e+3, val_loss=1199.0426]\n",
      "Global seed set to 4\n",
      "Epoch 100/100: 100%|█████████████████████████████████████████████████████████████████████████████████████████████████████████████████████████████████████████████████████████████████| 100/100 [00:10<00:00,  9.52it/s, train_loss=1.12e+3, val_loss=1208.5284]\n",
      "Global seed set to 5\n",
      "Epoch 100/100: 100%|█████████████████████████████████████████████████████████████████████████████████████████████████████████████████████████████████████████████████████████████████| 100/100 [00:10<00:00,  9.77it/s, train_loss=1.12e+3, val_loss=1221.0294]\n",
      "Global seed set to 6\n",
      "Epoch 100/100: 100%|█████████████████████████████████████████████████████████████████████████████████████████████████████████████████████████████████████████████████████████████████| 100/100 [00:10<00:00,  9.83it/s, train_loss=1.12e+3, val_loss=1197.4958]\n",
      "Global seed set to 7\n",
      "Epoch 100/100: 100%|██████████████████████████████████████████████████████████████████████████████████████████████████████████████████████████████████████████████████████████████████| 100/100 [00:10<00:00,  9.54it/s, train_loss=1.12e+3, val_loss=1203.056]\n",
      "Global seed set to 8\n",
      "Epoch 100/100: 100%|██████████████████████████████████████████████████████████████████████████████████████████████████████████████████████████████████████████████████████████████████| 100/100 [00:10<00:00,  9.90it/s, train_loss=1.12e+3, val_loss=1212.945]\n",
      "Global seed set to 9\n",
      "Epoch 100/100: 100%|█████████████████████████████████████████████████████████████████████████████████████████████████████████████████████████████████████████████████████████████████| 100/100 [00:10<00:00,  9.74it/s, train_loss=1.15e+3, val_loss=1194.9244]\n",
      "Global seed set to 10\n",
      "Epoch 100/100: 100%|█████████████████████████████████████████████████████████████████████████████████████████████████████████████████████████████████████████████████████████████████| 100/100 [00:10<00:00,  9.69it/s, train_loss=1133.36, val_loss=1196.0819]\n"
     ]
    }
   ],
   "source": [
    "from simvi.model import SimVIGraphOnly\n",
    "SimVIGraphOnly.setup_anndata(adata)\n",
    "edge_index = SimVIGraphOnly.extract_edge_index(adata,n_neighbors=10)\n",
    "\n",
    "## likelihood\n",
    "\n",
    "from pytorch_lightning.utilities.seed import seed_everything\n",
    "for i in range(10):\n",
    "    seed_everything(i+1)\n",
    "    model = SimVIGraphOnly(adata,kl_weight=1,kl_gatweight=1,lam_mi=1000,permutation_rate=0,n_spatial=20)\n",
    "    train_loss, val_loss = model.train(edge_index,max_epochs=100,batch_size=1000,use_gpu=True)\n",
    "    adata.obsm['simvigo_s'+str(i)] = model.get_latent_representation(edge_index,representation_kind='interaction',give_mean=True)\n",
    "    np.save('Benchmarking_results/slidetag/'+'simvigo_s'+str(i)+'.npy',adata.obsm['simvigo_s'+str(i)])"
   ]
  },
  {
   "cell_type": "code",
   "execution_count": 8,
   "id": "a195702e",
   "metadata": {},
   "outputs": [
    {
     "name": "stderr",
     "output_type": "stream",
     "text": [
      "Global seed set to 0\n",
      "GPU available: True, used: True\n",
      "TPU available: False, using: 0 TPU cores\n",
      "IPU available: False, using: 0 IPUs\n",
      "LOCAL_RANK: 0 - CUDA_VISIBLE_DEVICES: [0,1,2,3,4,5,6,7]\n",
      "/usr/local/lib/python3.8/dist-packages/pytorch_lightning/trainer/data_loading.py:432: UserWarning: The number of training samples (6) is smaller than the logging interval Trainer(log_every_n_steps=10). Set a lower value for log_every_n_steps if you want to see logs for the training epoch.\n",
      "  rank_zero_warn(\n"
     ]
    },
    {
     "name": "stdout",
     "output_type": "stream",
     "text": [
      "Epoch 100/100: 100%|█████████████████████████████████████████████████████████████████████████████████████████████████████████████████████████████████████████████████████████████████████████████████| 100/100 [00:11<00:00,  8.74it/s, loss=1.08e+03, v_num=1]\n"
     ]
    },
    {
     "name": "stderr",
     "output_type": "stream",
     "text": [
      "Global seed set to 1\n",
      "GPU available: True, used: True\n",
      "TPU available: False, using: 0 TPU cores\n",
      "IPU available: False, using: 0 IPUs\n",
      "LOCAL_RANK: 0 - CUDA_VISIBLE_DEVICES: [0,1,2,3,4,5,6,7]\n",
      "/usr/local/lib/python3.8/dist-packages/pytorch_lightning/trainer/data_loading.py:432: UserWarning: The number of training samples (6) is smaller than the logging interval Trainer(log_every_n_steps=10). Set a lower value for log_every_n_steps if you want to see logs for the training epoch.\n",
      "  rank_zero_warn(\n"
     ]
    },
    {
     "name": "stdout",
     "output_type": "stream",
     "text": [
      "Epoch 100/100: 100%|█████████████████████████████████████████████████████████████████████████████████████████████████████████████████████████████████████████████████████████████████████████████████| 100/100 [00:13<00:00,  7.44it/s, loss=1.08e+03, v_num=1]\n"
     ]
    },
    {
     "name": "stderr",
     "output_type": "stream",
     "text": [
      "Global seed set to 2\n",
      "GPU available: True, used: True\n",
      "TPU available: False, using: 0 TPU cores\n",
      "IPU available: False, using: 0 IPUs\n",
      "LOCAL_RANK: 0 - CUDA_VISIBLE_DEVICES: [0,1,2,3,4,5,6,7]\n",
      "/usr/local/lib/python3.8/dist-packages/pytorch_lightning/trainer/data_loading.py:432: UserWarning: The number of training samples (6) is smaller than the logging interval Trainer(log_every_n_steps=10). Set a lower value for log_every_n_steps if you want to see logs for the training epoch.\n",
      "  rank_zero_warn(\n"
     ]
    },
    {
     "name": "stdout",
     "output_type": "stream",
     "text": [
      "Epoch 100/100: 100%|█████████████████████████████████████████████████████████████████████████████████████████████████████████████████████████████████████████████████████████████████████████████████| 100/100 [00:13<00:00,  7.37it/s, loss=1.07e+03, v_num=1]\n"
     ]
    },
    {
     "name": "stderr",
     "output_type": "stream",
     "text": [
      "Global seed set to 3\n",
      "GPU available: True, used: True\n",
      "TPU available: False, using: 0 TPU cores\n",
      "IPU available: False, using: 0 IPUs\n",
      "LOCAL_RANK: 0 - CUDA_VISIBLE_DEVICES: [0,1,2,3,4,5,6,7]\n",
      "/usr/local/lib/python3.8/dist-packages/pytorch_lightning/trainer/data_loading.py:432: UserWarning: The number of training samples (6) is smaller than the logging interval Trainer(log_every_n_steps=10). Set a lower value for log_every_n_steps if you want to see logs for the training epoch.\n",
      "  rank_zero_warn(\n"
     ]
    },
    {
     "name": "stdout",
     "output_type": "stream",
     "text": [
      "Epoch 100/100: 100%|█████████████████████████████████████████████████████████████████████████████████████████████████████████████████████████████████████████████████████████████████████████████████| 100/100 [00:13<00:00,  7.47it/s, loss=1.08e+03, v_num=1]\n"
     ]
    },
    {
     "name": "stderr",
     "output_type": "stream",
     "text": [
      "Global seed set to 4\n",
      "GPU available: True, used: True\n",
      "TPU available: False, using: 0 TPU cores\n",
      "IPU available: False, using: 0 IPUs\n",
      "LOCAL_RANK: 0 - CUDA_VISIBLE_DEVICES: [0,1,2,3,4,5,6,7]\n",
      "/usr/local/lib/python3.8/dist-packages/pytorch_lightning/trainer/data_loading.py:432: UserWarning: The number of training samples (6) is smaller than the logging interval Trainer(log_every_n_steps=10). Set a lower value for log_every_n_steps if you want to see logs for the training epoch.\n",
      "  rank_zero_warn(\n"
     ]
    },
    {
     "name": "stdout",
     "output_type": "stream",
     "text": [
      "Epoch 100/100: 100%|█████████████████████████████████████████████████████████████████████████████████████████████████████████████████████████████████████████████████████████████████████████████████| 100/100 [00:13<00:00,  7.45it/s, loss=1.08e+03, v_num=1]\n"
     ]
    },
    {
     "name": "stderr",
     "output_type": "stream",
     "text": [
      "Global seed set to 5\n",
      "GPU available: True, used: True\n",
      "TPU available: False, using: 0 TPU cores\n",
      "IPU available: False, using: 0 IPUs\n",
      "LOCAL_RANK: 0 - CUDA_VISIBLE_DEVICES: [0,1,2,3,4,5,6,7]\n",
      "/usr/local/lib/python3.8/dist-packages/pytorch_lightning/trainer/data_loading.py:432: UserWarning: The number of training samples (6) is smaller than the logging interval Trainer(log_every_n_steps=10). Set a lower value for log_every_n_steps if you want to see logs for the training epoch.\n",
      "  rank_zero_warn(\n"
     ]
    },
    {
     "name": "stdout",
     "output_type": "stream",
     "text": [
      "Epoch 100/100: 100%|█████████████████████████████████████████████████████████████████████████████████████████████████████████████████████████████████████████████████████████████████████████████████| 100/100 [00:13<00:00,  7.50it/s, loss=1.06e+03, v_num=1]\n"
     ]
    },
    {
     "name": "stderr",
     "output_type": "stream",
     "text": [
      "Global seed set to 6\n",
      "GPU available: True, used: True\n",
      "TPU available: False, using: 0 TPU cores\n",
      "IPU available: False, using: 0 IPUs\n",
      "LOCAL_RANK: 0 - CUDA_VISIBLE_DEVICES: [0,1,2,3,4,5,6,7]\n",
      "/usr/local/lib/python3.8/dist-packages/pytorch_lightning/trainer/data_loading.py:432: UserWarning: The number of training samples (6) is smaller than the logging interval Trainer(log_every_n_steps=10). Set a lower value for log_every_n_steps if you want to see logs for the training epoch.\n",
      "  rank_zero_warn(\n"
     ]
    },
    {
     "name": "stdout",
     "output_type": "stream",
     "text": [
      "Epoch 100/100: 100%|█████████████████████████████████████████████████████████████████████████████████████████████████████████████████████████████████████████████████████████████████████████████████| 100/100 [00:13<00:00,  7.55it/s, loss=1.07e+03, v_num=1]\n"
     ]
    },
    {
     "name": "stderr",
     "output_type": "stream",
     "text": [
      "Global seed set to 7\n",
      "GPU available: True, used: True\n",
      "TPU available: False, using: 0 TPU cores\n",
      "IPU available: False, using: 0 IPUs\n",
      "LOCAL_RANK: 0 - CUDA_VISIBLE_DEVICES: [0,1,2,3,4,5,6,7]\n",
      "/usr/local/lib/python3.8/dist-packages/pytorch_lightning/trainer/data_loading.py:432: UserWarning: The number of training samples (6) is smaller than the logging interval Trainer(log_every_n_steps=10). Set a lower value for log_every_n_steps if you want to see logs for the training epoch.\n",
      "  rank_zero_warn(\n"
     ]
    },
    {
     "name": "stdout",
     "output_type": "stream",
     "text": [
      "Epoch 100/100: 100%|█████████████████████████████████████████████████████████████████████████████████████████████████████████████████████████████████████████████████████████████████████████████████| 100/100 [00:12<00:00,  7.95it/s, loss=1.09e+03, v_num=1]\n"
     ]
    },
    {
     "name": "stderr",
     "output_type": "stream",
     "text": [
      "Global seed set to 8\n",
      "GPU available: True, used: True\n",
      "TPU available: False, using: 0 TPU cores\n",
      "IPU available: False, using: 0 IPUs\n",
      "LOCAL_RANK: 0 - CUDA_VISIBLE_DEVICES: [0,1,2,3,4,5,6,7]\n",
      "/usr/local/lib/python3.8/dist-packages/pytorch_lightning/trainer/data_loading.py:432: UserWarning: The number of training samples (6) is smaller than the logging interval Trainer(log_every_n_steps=10). Set a lower value for log_every_n_steps if you want to see logs for the training epoch.\n",
      "  rank_zero_warn(\n"
     ]
    },
    {
     "name": "stdout",
     "output_type": "stream",
     "text": [
      "Epoch 100/100: 100%|█████████████████████████████████████████████████████████████████████████████████████████████████████████████████████████████████████████████████████████████████████████████████| 100/100 [00:13<00:00,  7.54it/s, loss=1.08e+03, v_num=1]\n"
     ]
    },
    {
     "name": "stderr",
     "output_type": "stream",
     "text": [
      "Global seed set to 9\n",
      "GPU available: True, used: True\n",
      "TPU available: False, using: 0 TPU cores\n",
      "IPU available: False, using: 0 IPUs\n",
      "LOCAL_RANK: 0 - CUDA_VISIBLE_DEVICES: [0,1,2,3,4,5,6,7]\n",
      "/usr/local/lib/python3.8/dist-packages/pytorch_lightning/trainer/data_loading.py:432: UserWarning: The number of training samples (6) is smaller than the logging interval Trainer(log_every_n_steps=10). Set a lower value for log_every_n_steps if you want to see logs for the training epoch.\n",
      "  rank_zero_warn(\n"
     ]
    },
    {
     "name": "stdout",
     "output_type": "stream",
     "text": [
      "Epoch 100/100: 100%|█████████████████████████████████████████████████████████████████████████████████████████████████████████████████████████████████████████████████████████████████████████████████| 100/100 [00:13<00:00,  7.56it/s, loss=1.08e+03, v_num=1]\n"
     ]
    }
   ],
   "source": [
    "import scvi\n",
    "scvi.model.SCVI.setup_anndata(adata)\n",
    "for i in range(10):\n",
    "    seed_everything(i)\n",
    "    vae = scvi.model.SCVI(adata, n_layers=2, n_latent=20)\n",
    "    vae.train(max_epochs=100,use_gpu=True,batch_size=1000)\n",
    "    adata.obsm['scvi'+str(i)] = vae.get_latent_representation(adata)\n",
    "    np.save('Benchmarking_results/slidetag/'+'scvi'+str(i)+'.npy',adata.obsm['scvi'+str(i)])"
   ]
  }
 ],
 "metadata": {
  "kernelspec": {
   "display_name": "Python 3 (ipykernel)",
   "language": "python",
   "name": "python3"
  },
  "language_info": {
   "codemirror_mode": {
    "name": "ipython",
    "version": 3
   },
   "file_extension": ".py",
   "mimetype": "text/x-python",
   "name": "python",
   "nbconvert_exporter": "python",
   "pygments_lexer": "ipython3",
   "version": "3.9.13"
  }
 },
 "nbformat": 4,
 "nbformat_minor": 5
}
