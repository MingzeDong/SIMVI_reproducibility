{
 "cells": [
  {
   "cell_type": "code",
   "execution_count": 1,
   "id": "4f46eb7f",
   "metadata": {},
   "outputs": [],
   "source": [
    "import scanpy as sc\n",
    "import squidpy as sq\n",
    "\n",
    "import numpy as np\n",
    "import pandas as pd"
   ]
  },
  {
   "cell_type": "code",
   "execution_count": 2,
   "id": "d08fb75a",
   "metadata": {},
   "outputs": [],
   "source": [
    "adata = sc.read_h5ad('datasets/multiome/multiome_rna.h5ad')"
   ]
  },
  {
   "cell_type": "code",
   "execution_count": 3,
   "id": "0b41741a",
   "metadata": {},
   "outputs": [
    {
     "name": "stderr",
     "output_type": "stream",
     "text": [
      "Global seed set to 0\n",
      "No GPU/TPU found, falling back to CPU. (Set TF_CPP_MIN_LOG_LEVEL=0 and rerun for more info.)\n"
     ]
    }
   ],
   "source": [
    "from simvi.model import SimVI\n",
    "SimVI.setup_anndata(adata)\n",
    "edge_index = SimVI.extract_edge_index(adata,n_neighbors=10)"
   ]
  },
  {
   "cell_type": "code",
   "execution_count": 4,
   "id": "73914dbb",
   "metadata": {},
   "outputs": [
    {
     "name": "stderr",
     "output_type": "stream",
     "text": [
      "Global seed set to 1\n",
      "Epoch 200/200: 100%|█████████████████████████████████████████████████████████████████████████████████████████████████████████████████████████████████████████████████████████████████████| 200/200 [00:28<00:00,  6.96it/s, train_loss=637, val_loss=639.97046]\n",
      "Global seed set to 2\n",
      "Epoch 200/200: 100%|██████████████████████████████████████████████████████████████████████████████████████████████████████████████████████████████████████████████████████████████████████| 200/200 [00:31<00:00,  6.40it/s, train_loss=635, val_loss=640.8235]\n",
      "Global seed set to 3\n",
      "Epoch 200/200: 100%|█████████████████████████████████████████████████████████████████████████████████████████████████████████████████████████████████████████████████████████████████████| 200/200 [00:29<00:00,  6.74it/s, train_loss=635, val_loss=638.69196]\n",
      "Global seed set to 4\n",
      "Epoch 200/200: 100%|██████████████████████████████████████████████████████████████████████████████████████████████████████████████████████████████████████████████████████████████████████| 200/200 [00:29<00:00,  6.76it/s, train_loss=633, val_loss=640.1637]\n",
      "Global seed set to 5\n",
      "Epoch 200/200: 100%|█████████████████████████████████████████████████████████████████████████████████████████████████████████████████████████████████████████████████████████████████████| 200/200 [00:27<00:00,  7.15it/s, train_loss=636, val_loss=639.73303]\n",
      "Global seed set to 6\n",
      "Epoch 200/200: 100%|████████████████████████████████████████████████████████████████████████████████████████████████████████████████████████████████████████████████████████████████████████| 200/200 [00:25<00:00,  7.70it/s, train_loss=635, val_loss=640.98]\n",
      "Global seed set to 7\n",
      "Epoch 200/200: 100%|█████████████████████████████████████████████████████████████████████████████████████████████████████████████████████████████████████████████████████████████████████| 200/200 [00:27<00:00,  7.22it/s, train_loss=634, val_loss=637.78436]\n",
      "Global seed set to 8\n",
      "Epoch 200/200: 100%|██████████████████████████████████████████████████████████████████████████████████████████████████████████████████████████████████████████████████████████████████████| 200/200 [00:30<00:00,  6.65it/s, train_loss=636, val_loss=638.2444]\n",
      "Global seed set to 9\n",
      "Epoch 200/200: 100%|██████████████████████████████████████████████████████████████████████████████████████████████████████████████████████████████████████████████████████████████████████| 200/200 [00:30<00:00,  6.60it/s, train_loss=634, val_loss=636.2751]\n",
      "Global seed set to 10\n",
      "Epoch 200/200: 100%|██████████████████████████████████████████████████████████████████████████████████████████████████████████████████████████████████████████████████████████████████████| 200/200 [00:29<00:00,  6.88it/s, train_loss=634, val_loss=637.9167]\n"
     ]
    }
   ],
   "source": [
    "from pytorch_lightning.utilities.seed import seed_everything\n",
    "for i in range(10):\n",
    "    seed_everything(i+1)\n",
    "    model = SimVI(adata,kl_weight=1,kl_gatweight=0.01,lam_mi=1000,permutation_rate=0.5,n_spatial=20,n_intrinsic=20)\n",
    "    train_loss, val_loss = model.train(edge_index,max_epochs=200,batch_size=500,use_gpu=True,mae_epochs=50,device='cuda:2')\n",
    "    adata.obsm['simvi_z'+str(i)] = model.get_latent_representation(edge_index,representation_kind='intrinsic',give_mean=True)\n",
    "    adata.obsm['simvi_s'+str(i)] = model.get_latent_representation(edge_index,representation_kind='interaction',give_mean=True)\n",
    "    adata.obsm['simvi_'+str(i)] = np.hstack((adata.obsm['simvi_z'+str(i)],adata.obsm['simvi_s'+str(i)]))\n",
    "    np.save('Benchmarking_results/multiome/'+'simvi_z'+str(i)+'.npy',adata.obsm['simvi_z'+str(i)])\n",
    "    np.save('Benchmarking_results/multiome/'+'simvi_s'+str(i)+'.npy',adata.obsm['simvi_s'+str(i)])\n",
    "    np.save('Benchmarking_results/multiome/'+'simvi_'+str(i)+'.npy',adata.obsm['simvi_'+str(i)])"
   ]
  },
  {
   "cell_type": "code",
   "execution_count": 5,
   "id": "57838865",
   "metadata": {},
   "outputs": [
    {
     "name": "stderr",
     "output_type": "stream",
     "text": [
      "Global seed set to 1\n",
      "Epoch 200/200: 100%|██████████████████████████████████████████████████████████████████████████████████████████████████████████████████████████████████████████████████████████████████████| 200/200 [00:13<00:00, 15.17it/s, train_loss=632, val_loss=654.3658]\n",
      "Global seed set to 2\n",
      "Epoch 200/200: 100%|██████████████████████████████████████████████████████████████████████████████████████████████████████████████████████████████████████████████████████████████████████| 200/200 [00:12<00:00, 15.51it/s, train_loss=639, val_loss=647.7573]\n",
      "Global seed set to 3\n",
      "Epoch 200/200: 100%|█████████████████████████████████████████████████████████████████████████████████████████████████████████████████████████████████████████████████████████████████████| 200/200 [00:14<00:00, 13.96it/s, train_loss=639, val_loss=650.22766]\n",
      "Global seed set to 4\n",
      "Epoch 200/200: 100%|██████████████████████████████████████████████████████████████████████████████████████████████████████████████████████████████████████████████████████████████████████| 200/200 [00:14<00:00, 14.11it/s, train_loss=634, val_loss=646.6656]\n",
      "Global seed set to 5\n",
      "Epoch 200/200: 100%|██████████████████████████████████████████████████████████████████████████████████████████████████████████████████████████████████████████████████████████████████████| 200/200 [00:14<00:00, 13.60it/s, train_loss=638, val_loss=651.9697]\n",
      "Global seed set to 6\n",
      "Epoch 200/200: 100%|██████████████████████████████████████████████████████████████████████████████████████████████████████████████████████████████████████████████████████████████████████| 200/200 [00:12<00:00, 15.40it/s, train_loss=639, val_loss=653.2011]\n",
      "Global seed set to 7\n",
      "Epoch 200/200: 100%|█████████████████████████████████████████████████████████████████████████████████████████████████████████████████████████████████████████████████████████████████████| 200/200 [00:14<00:00, 13.97it/s, train_loss=637, val_loss=657.74274]\n",
      "Global seed set to 8\n",
      "Epoch 200/200: 100%|█████████████████████████████████████████████████████████████████████████████████████████████████████████████████████████████████████████████████████████████████████| 200/200 [00:13<00:00, 14.93it/s, train_loss=641, val_loss=648.72876]\n",
      "Global seed set to 9\n",
      "Epoch 200/200: 100%|██████████████████████████████████████████████████████████████████████████████████████████████████████████████████████████████████████████████████████████████████████| 200/200 [00:14<00:00, 13.82it/s, train_loss=635, val_loss=646.2582]\n",
      "Global seed set to 10\n",
      "Epoch 200/200: 100%|██████████████████████████████████████████████████████████████████████████████████████████████████████████████████████████████████████████████████████████████████████| 200/200 [00:14<00:00, 13.59it/s, train_loss=637, val_loss=646.4016]\n"
     ]
    }
   ],
   "source": [
    "from simvi.model import SimVIGraphOnly\n",
    "SimVIGraphOnly.setup_anndata(adata,batch_key='cell_type')\n",
    "edge_index = SimVIGraphOnly.extract_edge_index(adata,n_neighbors=10)\n",
    "\n",
    "## likelihood\n",
    "\n",
    "from pytorch_lightning.utilities.seed import seed_everything\n",
    "for i in range(10):\n",
    "    seed_everything(i+1)\n",
    "    model = SimVIGraphOnly(adata,kl_weight=1,kl_gatweight=1,lam_mi=1000,permutation_rate=0,n_spatial=20)\n",
    "    train_loss, val_loss = model.train(edge_index,max_epochs=200,batch_size=500,use_gpu=True)\n",
    "    adata.obsm['simvigoct_s'+str(i)] = model.get_latent_representation(edge_index,representation_kind='interaction',give_mean=True)\n",
    "    np.save('Benchmarking_results/multiome/'+'simvigoct_s'+str(i)+'.npy',adata.obsm['simvigoct_s'+str(i)])"
   ]
  },
  {
   "cell_type": "code",
   "execution_count": 6,
   "id": "b1ae49c8",
   "metadata": {},
   "outputs": [
    {
     "name": "stderr",
     "output_type": "stream",
     "text": [
      "Global seed set to 1\n",
      "Epoch 200/200: 100%|█████████████████████████████████████████████████████████████████████████████████████████████████████████████████████████████████████████████████████████████████████| 200/200 [00:13<00:00, 14.38it/s, train_loss=663, val_loss=727.63934]\n",
      "Global seed set to 2\n",
      "Epoch 200/200: 100%|██████████████████████████████████████████████████████████████████████████████████████████████████████████████████████████████████████████████████████████████████████| 200/200 [00:13<00:00, 14.40it/s, train_loss=662, val_loss=722.5476]\n",
      "Global seed set to 3\n",
      "Epoch 200/200: 100%|██████████████████████████████████████████████████████████████████████████████████████████████████████████████████████████████████████████████████████████████████████| 200/200 [00:15<00:00, 13.24it/s, train_loss=666, val_loss=727.4437]\n",
      "Global seed set to 4\n",
      "Epoch 200/200: 100%|██████████████████████████████████████████████████████████████████████████████████████████████████████████████████████████████████████████████████████████████████████| 200/200 [00:13<00:00, 14.43it/s, train_loss=662, val_loss=726.4001]\n",
      "Global seed set to 5\n",
      "Epoch 200/200: 100%|██████████████████████████████████████████████████████████████████████████████████████████████████████████████████████████████████████████████████████████████████████| 200/200 [00:13<00:00, 14.29it/s, train_loss=667, val_loss=710.2074]\n",
      "Global seed set to 6\n",
      "Epoch 200/200: 100%|█████████████████████████████████████████████████████████████████████████████████████████████████████████████████████████████████████████████████████████████████████| 200/200 [00:13<00:00, 14.58it/s, train_loss=664, val_loss=718.84155]\n",
      "Global seed set to 7\n",
      "Epoch 200/200: 100%|██████████████████████████████████████████████████████████████████████████████████████████████████████████████████████████████████████████████████████████████████████| 200/200 [00:13<00:00, 14.67it/s, train_loss=661, val_loss=727.4866]\n",
      "Global seed set to 8\n",
      "Epoch 200/200: 100%|██████████████████████████████████████████████████████████████████████████████████████████████████████████████████████████████████████████████████████████████████████| 200/200 [00:14<00:00, 13.80it/s, train_loss=668, val_loss=721.7131]\n",
      "Global seed set to 9\n",
      "Epoch 200/200: 100%|██████████████████████████████████████████████████████████████████████████████████████████████████████████████████████████████████████████████████████████████████████| 200/200 [00:14<00:00, 14.15it/s, train_loss=659, val_loss=725.4834]\n",
      "Global seed set to 10\n",
      "Epoch 200/200: 100%|█████████████████████████████████████████████████████████████████████████████████████████████████████████████████████████████████████████████████████████████████████| 200/200 [00:14<00:00, 13.91it/s, train_loss=663, val_loss=737.60736]\n"
     ]
    }
   ],
   "source": [
    "from simvi.model import SimVIGraphOnly\n",
    "SimVIGraphOnly.setup_anndata(adata)\n",
    "edge_index = SimVIGraphOnly.extract_edge_index(adata,n_neighbors=10)\n",
    "\n",
    "## likelihood\n",
    "\n",
    "from pytorch_lightning.utilities.seed import seed_everything\n",
    "for i in range(10):\n",
    "    seed_everything(i+1)\n",
    "    model = SimVIGraphOnly(adata,kl_weight=1,kl_gatweight=1,lam_mi=1000,permutation_rate=0,n_spatial=20)\n",
    "    train_loss, val_loss = model.train(edge_index,max_epochs=200,batch_size=500,use_gpu=True)\n",
    "    adata.obsm['simvigo_s'+str(i)] = model.get_latent_representation(edge_index,representation_kind='interaction',give_mean=True)\n",
    "    np.save('Benchmarking_results/multiome/'+'simvigo_s'+str(i)+'.npy',adata.obsm['simvigo_s'+str(i)])"
   ]
  },
  {
   "cell_type": "code",
   "execution_count": 7,
   "id": "a195702e",
   "metadata": {},
   "outputs": [
    {
     "name": "stderr",
     "output_type": "stream",
     "text": [
      "Global seed set to 0\n",
      "GPU available: True, used: True\n",
      "TPU available: False, using: 0 TPU cores\n",
      "IPU available: False, using: 0 IPUs\n",
      "LOCAL_RANK: 0 - CUDA_VISIBLE_DEVICES: [0,1,2,3,4,5,6,7]\n",
      "/usr/local/lib/python3.8/dist-packages/pytorch_lightning/trainer/data_loading.py:432: UserWarning: The number of training samples (5) is smaller than the logging interval Trainer(log_every_n_steps=10). Set a lower value for log_every_n_steps if you want to see logs for the training epoch.\n",
      "  rank_zero_warn(\n"
     ]
    },
    {
     "name": "stdout",
     "output_type": "stream",
     "text": [
      "Epoch 200/200: 100%|██████████████████████████████████████████████████████████████████████████████████████████████████████████████████████████████████████████████████████████████████████████████████████| 200/200 [00:14<00:00, 13.66it/s, loss=620, v_num=1]"
     ]
    },
    {
     "name": "stderr",
     "output_type": "stream",
     "text": [
      "Global seed set to 1\n"
     ]
    },
    {
     "name": "stdout",
     "output_type": "stream",
     "text": [
      "\n"
     ]
    },
    {
     "name": "stderr",
     "output_type": "stream",
     "text": [
      "GPU available: True, used: True\n",
      "TPU available: False, using: 0 TPU cores\n",
      "IPU available: False, using: 0 IPUs\n",
      "LOCAL_RANK: 0 - CUDA_VISIBLE_DEVICES: [0,1,2,3,4,5,6,7]\n",
      "/usr/local/lib/python3.8/dist-packages/pytorch_lightning/trainer/data_loading.py:432: UserWarning: The number of training samples (5) is smaller than the logging interval Trainer(log_every_n_steps=10). Set a lower value for log_every_n_steps if you want to see logs for the training epoch.\n",
      "  rank_zero_warn(\n"
     ]
    },
    {
     "name": "stdout",
     "output_type": "stream",
     "text": [
      "Epoch 200/200: 100%|██████████████████████████████████████████████████████████████████████████████████████████████████████████████████████████████████████████████████████████████████████████████████████| 200/200 [00:14<00:00, 13.67it/s, loss=618, v_num=1]"
     ]
    },
    {
     "name": "stderr",
     "output_type": "stream",
     "text": [
      "Global seed set to 2\n"
     ]
    },
    {
     "name": "stdout",
     "output_type": "stream",
     "text": [
      "\n"
     ]
    },
    {
     "name": "stderr",
     "output_type": "stream",
     "text": [
      "GPU available: True, used: True\n",
      "TPU available: False, using: 0 TPU cores\n",
      "IPU available: False, using: 0 IPUs\n",
      "LOCAL_RANK: 0 - CUDA_VISIBLE_DEVICES: [0,1,2,3,4,5,6,7]\n",
      "/usr/local/lib/python3.8/dist-packages/pytorch_lightning/trainer/data_loading.py:432: UserWarning: The number of training samples (5) is smaller than the logging interval Trainer(log_every_n_steps=10). Set a lower value for log_every_n_steps if you want to see logs for the training epoch.\n",
      "  rank_zero_warn(\n"
     ]
    },
    {
     "name": "stdout",
     "output_type": "stream",
     "text": [
      "Epoch 200/200: 100%|██████████████████████████████████████████████████████████████████████████████████████████████████████████████████████████████████████████████████████████████████████████████████████| 200/200 [00:14<00:00, 13.90it/s, loss=618, v_num=1]"
     ]
    },
    {
     "name": "stderr",
     "output_type": "stream",
     "text": [
      "Global seed set to 3\n"
     ]
    },
    {
     "name": "stdout",
     "output_type": "stream",
     "text": [
      "\n"
     ]
    },
    {
     "name": "stderr",
     "output_type": "stream",
     "text": [
      "GPU available: True, used: True\n",
      "TPU available: False, using: 0 TPU cores\n",
      "IPU available: False, using: 0 IPUs\n",
      "LOCAL_RANK: 0 - CUDA_VISIBLE_DEVICES: [0,1,2,3,4,5,6,7]\n",
      "/usr/local/lib/python3.8/dist-packages/pytorch_lightning/trainer/data_loading.py:432: UserWarning: The number of training samples (5) is smaller than the logging interval Trainer(log_every_n_steps=10). Set a lower value for log_every_n_steps if you want to see logs for the training epoch.\n",
      "  rank_zero_warn(\n"
     ]
    },
    {
     "name": "stdout",
     "output_type": "stream",
     "text": [
      "Epoch 200/200: 100%|██████████████████████████████████████████████████████████████████████████████████████████████████████████████████████████████████████████████████████████████████████████████████████| 200/200 [00:14<00:00, 13.91it/s, loss=617, v_num=1]\n"
     ]
    },
    {
     "name": "stderr",
     "output_type": "stream",
     "text": [
      "Global seed set to 4\n",
      "GPU available: True, used: True\n",
      "TPU available: False, using: 0 TPU cores\n",
      "IPU available: False, using: 0 IPUs\n",
      "LOCAL_RANK: 0 - CUDA_VISIBLE_DEVICES: [0,1,2,3,4,5,6,7]\n",
      "/usr/local/lib/python3.8/dist-packages/pytorch_lightning/trainer/data_loading.py:432: UserWarning: The number of training samples (5) is smaller than the logging interval Trainer(log_every_n_steps=10). Set a lower value for log_every_n_steps if you want to see logs for the training epoch.\n",
      "  rank_zero_warn(\n"
     ]
    },
    {
     "name": "stdout",
     "output_type": "stream",
     "text": [
      "Epoch 200/200: 100%|██████████████████████████████████████████████████████████████████████████████████████████████████████████████████████████████████████████████████████████████████████████████████████| 200/200 [00:13<00:00, 14.34it/s, loss=617, v_num=1]\n"
     ]
    },
    {
     "name": "stderr",
     "output_type": "stream",
     "text": [
      "Global seed set to 5\n",
      "GPU available: True, used: True\n",
      "TPU available: False, using: 0 TPU cores\n",
      "IPU available: False, using: 0 IPUs\n",
      "LOCAL_RANK: 0 - CUDA_VISIBLE_DEVICES: [0,1,2,3,4,5,6,7]\n",
      "/usr/local/lib/python3.8/dist-packages/pytorch_lightning/trainer/data_loading.py:432: UserWarning: The number of training samples (5) is smaller than the logging interval Trainer(log_every_n_steps=10). Set a lower value for log_every_n_steps if you want to see logs for the training epoch.\n",
      "  rank_zero_warn(\n"
     ]
    },
    {
     "name": "stdout",
     "output_type": "stream",
     "text": [
      "Epoch 200/200: 100%|██████████████████████████████████████████████████████████████████████████████████████████████████████████████████████████████████████████████████████████████████████████████████████| 200/200 [00:13<00:00, 15.11it/s, loss=617, v_num=1]"
     ]
    },
    {
     "name": "stderr",
     "output_type": "stream",
     "text": [
      "Global seed set to 6\n"
     ]
    },
    {
     "name": "stdout",
     "output_type": "stream",
     "text": [
      "\n"
     ]
    },
    {
     "name": "stderr",
     "output_type": "stream",
     "text": [
      "GPU available: True, used: True\n",
      "TPU available: False, using: 0 TPU cores\n",
      "IPU available: False, using: 0 IPUs\n",
      "LOCAL_RANK: 0 - CUDA_VISIBLE_DEVICES: [0,1,2,3,4,5,6,7]\n",
      "/usr/local/lib/python3.8/dist-packages/pytorch_lightning/trainer/data_loading.py:432: UserWarning: The number of training samples (5) is smaller than the logging interval Trainer(log_every_n_steps=10). Set a lower value for log_every_n_steps if you want to see logs for the training epoch.\n",
      "  rank_zero_warn(\n"
     ]
    },
    {
     "name": "stdout",
     "output_type": "stream",
     "text": [
      "Epoch 200/200: 100%|██████████████████████████████████████████████████████████████████████████████████████████████████████████████████████████████████████████████████████████████████████████████████████| 200/200 [00:13<00:00, 14.36it/s, loss=619, v_num=1]"
     ]
    },
    {
     "name": "stderr",
     "output_type": "stream",
     "text": [
      "Global seed set to 7\n"
     ]
    },
    {
     "name": "stdout",
     "output_type": "stream",
     "text": [
      "\n"
     ]
    },
    {
     "name": "stderr",
     "output_type": "stream",
     "text": [
      "GPU available: True, used: True\n",
      "TPU available: False, using: 0 TPU cores\n",
      "IPU available: False, using: 0 IPUs\n",
      "LOCAL_RANK: 0 - CUDA_VISIBLE_DEVICES: [0,1,2,3,4,5,6,7]\n",
      "/usr/local/lib/python3.8/dist-packages/pytorch_lightning/trainer/data_loading.py:432: UserWarning: The number of training samples (5) is smaller than the logging interval Trainer(log_every_n_steps=10). Set a lower value for log_every_n_steps if you want to see logs for the training epoch.\n",
      "  rank_zero_warn(\n"
     ]
    },
    {
     "name": "stdout",
     "output_type": "stream",
     "text": [
      "Epoch 200/200: 100%|██████████████████████████████████████████████████████████████████████████████████████████████████████████████████████████████████████████████████████████████████████████████████████| 200/200 [00:14<00:00, 14.22it/s, loss=618, v_num=1]"
     ]
    },
    {
     "name": "stderr",
     "output_type": "stream",
     "text": [
      "Global seed set to 8\n"
     ]
    },
    {
     "name": "stdout",
     "output_type": "stream",
     "text": [
      "\n"
     ]
    },
    {
     "name": "stderr",
     "output_type": "stream",
     "text": [
      "GPU available: True, used: True\n",
      "TPU available: False, using: 0 TPU cores\n",
      "IPU available: False, using: 0 IPUs\n",
      "LOCAL_RANK: 0 - CUDA_VISIBLE_DEVICES: [0,1,2,3,4,5,6,7]\n",
      "/usr/local/lib/python3.8/dist-packages/pytorch_lightning/trainer/data_loading.py:432: UserWarning: The number of training samples (5) is smaller than the logging interval Trainer(log_every_n_steps=10). Set a lower value for log_every_n_steps if you want to see logs for the training epoch.\n",
      "  rank_zero_warn(\n"
     ]
    },
    {
     "name": "stdout",
     "output_type": "stream",
     "text": [
      "Epoch 200/200: 100%|██████████████████████████████████████████████████████████████████████████████████████████████████████████████████████████████████████████████████████████████████████████████████████| 200/200 [00:14<00:00, 13.91it/s, loss=618, v_num=1]"
     ]
    },
    {
     "name": "stderr",
     "output_type": "stream",
     "text": [
      "Global seed set to 9\n"
     ]
    },
    {
     "name": "stdout",
     "output_type": "stream",
     "text": [
      "\n"
     ]
    },
    {
     "name": "stderr",
     "output_type": "stream",
     "text": [
      "GPU available: True, used: True\n",
      "TPU available: False, using: 0 TPU cores\n",
      "IPU available: False, using: 0 IPUs\n",
      "LOCAL_RANK: 0 - CUDA_VISIBLE_DEVICES: [0,1,2,3,4,5,6,7]\n",
      "/usr/local/lib/python3.8/dist-packages/pytorch_lightning/trainer/data_loading.py:432: UserWarning: The number of training samples (5) is smaller than the logging interval Trainer(log_every_n_steps=10). Set a lower value for log_every_n_steps if you want to see logs for the training epoch.\n",
      "  rank_zero_warn(\n"
     ]
    },
    {
     "name": "stdout",
     "output_type": "stream",
     "text": [
      "Epoch 200/200: 100%|██████████████████████████████████████████████████████████████████████████████████████████████████████████████████████████████████████████████████████████████████████████████████████| 200/200 [00:14<00:00, 13.83it/s, loss=617, v_num=1]\n"
     ]
    }
   ],
   "source": [
    "import scvi\n",
    "scvi.model.SCVI.setup_anndata(adata)\n",
    "for i in range(10):\n",
    "    seed_everything(i)\n",
    "    vae = scvi.model.SCVI(adata, n_layers=2, n_latent=20)\n",
    "    vae.train(max_epochs=200,use_gpu=True,batch_size=500)\n",
    "    adata.obsm['scvi'+str(i)] = vae.get_latent_representation(adata)\n",
    "    np.save('Benchmarking_results/multiome/'+'scvi'+str(i)+'.npy',adata.obsm['scvi'+str(i)])"
   ]
  }
 ],
 "metadata": {
  "kernelspec": {
   "display_name": "Python 3 (ipykernel)",
   "language": "python",
   "name": "python3"
  },
  "language_info": {
   "codemirror_mode": {
    "name": "ipython",
    "version": 3
   },
   "file_extension": ".py",
   "mimetype": "text/x-python",
   "name": "python",
   "nbconvert_exporter": "python",
   "pygments_lexer": "ipython3",
   "version": "3.9.13"
  }
 },
 "nbformat": 4,
 "nbformat_minor": 5
}
